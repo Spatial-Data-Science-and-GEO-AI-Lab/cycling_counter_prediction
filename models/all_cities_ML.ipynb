{
 "cells": [
  {
   "attachments": {},
   "cell_type": "markdown",
   "metadata": {},
   "source": [
    "- Figure out which train datset is predicting which test dataset\n",
    "- Make pandas table in order to be able to evaluate the different models that just combines them all"
   ]
  },
  {
   "attachments": {},
   "cell_type": "markdown",
   "metadata": {},
   "source": [
    "## All countries\n",
    "\n",
    "This code uses spatial cross-validation to evaluate Random Forest, XGBoost and SVM models, by dividing the data into group folds according to the country in which the counter is found. "
   ]
  },
  {
   "cell_type": "code",
   "execution_count": 16,
   "metadata": {},
   "outputs": [],
   "source": [
    "import numpy as np\n",
    "import pandas as pd\n",
    "import xgboost as xgb\n",
    "from math import sqrt\n",
    "from sklearn.metrics import r2_score, mean_absolute_error, mean_squared_error\n",
    "from sklearn.preprocessing import StandardScaler\n",
    "from sklearn.ensemble import RandomForestRegressor\n",
    "from sklearn.model_selection import GridSearchCV, KFold, GroupKFold, cross_val_predict"
   ]
  },
  {
   "attachments": {},
   "cell_type": "markdown",
   "metadata": {},
   "source": [
    "### Data selection"
   ]
  },
  {
   "cell_type": "code",
   "execution_count": 19,
   "metadata": {},
   "outputs": [],
   "source": [
    "#Load in data\n",
    "#Import csv and remove non-numerical variables\n",
    "df = pd.read_csv('/Users/winke/Documents/University/Thesis/Predicting_cycling/weekly_new.csv')\n",
    "df = df.drop(['name', 'year', 'week', 'latitude', 'longitude', 'espg'] , axis=1)\n",
    "df = df[['counts_week', 'country', 'dem_mean', 'cycle_length', 'lst_mean', 'pop_sum', 'dem_std', 'build_area', 'street_length_total', \n",
    "          'ndvi_mean', 'restaurants', 'dist_to_bikePOI', '3_way_int_count', 'bike_points', 'daily_shops', 'median_speed', 'business_shops',\n",
    "           'traffic_signals', 'dist_to_edu', 'dist_to_train', 'streets_per_node_avg', 'circuity_avg', 'lc_entropy']]\n",
    "\n",
    "country = df\n",
    "\n",
    "#Create dependent and independent variable\n",
    "y = country.loc[:,'counts_week']\n",
    "X = country.drop(['counts_week', 'country'], axis=1)\n",
    "\n",
    "# Normalize dependent variable\n",
    "scaler = StandardScaler()\n",
    "data_scaled = scaler.fit_transform(y.values.reshape(-1, 1))\n",
    "y = pd.Series(data_scaled.ravel())\n",
    "\n",
    "#Create spatial cross-validation according to countries\n",
    "k = GroupKFold(n_splits=3)\n",
    "countries = country['country'].values \n",
    "country_kfold = k.split(X, y, countries)\n",
    "\n",
    "# Create the nested list of train and test indices for each fold\n",
    "train_indices, test_indices = [list(traintest) for traintest in zip(*country_kfold)]\n",
    "city_cv = [*zip(train_indices,test_indices)]"
   ]
  },
  {
   "attachments": {},
   "cell_type": "markdown",
   "metadata": {},
   "source": [
    "## Random Forest"
   ]
  },
  {
   "cell_type": "code",
   "execution_count": 20,
   "metadata": {},
   "outputs": [
    {
     "name": "stdout",
     "output_type": "stream",
     "text": [
      "*** FOLD *** training: USA UK | test: Netherlands\n",
      "Fold score: 2.8964298136069058\n",
      "R-squared:  -0.3589703200095624\n",
      "MSE:  2.8964298136069058\n",
      "RMSE:  1.7018900709525588\n",
      "MAE:  0.9156997191240007\n",
      "Best parameters:  {'max_depth': 5, 'min_samples_split': 2, 'n_estimators': 200}\n",
      "Best score:  -0.022754330443188475\n",
      "*** FOLD *** training: Netherlands USA | test: UK\n",
      "Fold score: 0.1215839639726358\n",
      "R-squared:  -10.177984576091378\n",
      "MSE:  0.1215839639726358\n",
      "RMSE:  0.34868892149398123\n",
      "MAE:  0.23320196703240645\n",
      "Best parameters:  {'max_depth': 5, 'min_samples_split': 5, 'n_estimators': 200}\n",
      "Best score:  -1.495535406168285\n",
      "*** FOLD *** training: Netherlands UK | test: USA\n",
      "Fold score: 0.2674602863725074\n",
      "R-squared:  -6.2906314820217775\n",
      "MSE:  0.2674602863725074\n",
      "RMSE:  0.5171656276015523\n",
      "MAE:  0.36423559352920687\n",
      "Best parameters:  {'max_depth': 5, 'min_samples_split': 5, 'n_estimators': 50}\n",
      "Best score:  -1.7334977370224667\n"
     ]
    }
   ],
   "source": [
    "# Define the parameter grid to search\n",
    "param_grid = {'n_estimators': [50, 100, 200, 300, 400, 500],\n",
    "            'max_depth': [5, 10, 15, 20, 25],\n",
    "            'min_samples_split': [2, 5, 10]}\n",
    "\n",
    "# Iterate through the folds\n",
    "for train_index, test_index in city_cv:\n",
    "    # Use the indices to split the data\n",
    "    X_train, X_test = X.iloc[train_index], X.iloc[test_index]\n",
    "    y_train, y_test = y.iloc[train_index], y.iloc[test_index]\n",
    "\n",
    "    trains = df.iloc[train_index]['country'].drop_duplicates().values\n",
    "    test = df.iloc[test_index]['country'].drop_duplicates().values\n",
    "\n",
    "    # Create the random forest model\n",
    "    rf = RandomForestRegressor()\n",
    "\n",
    "    # Create the grid search object\n",
    "    grid_search = GridSearchCV(rf, param_grid, scoring='neg_mean_squared_error')\n",
    "\n",
    "    # Fit the grid search to the data\n",
    "    grid_search.fit(X_train, y_train)\n",
    "\n",
    "    #Run the model on the test split of the data\n",
    "    y_pred = grid_search.predict(X_test)\n",
    "    score = mean_squared_error(y_test, y_pred)\n",
    "    \n",
    "    #Calculate model statistics and print them\n",
    "    r2 = r2_score(y_test, y_pred)\n",
    "    mse = mean_squared_error(y_test, y_pred)\n",
    "    rmse = sqrt(mse)\n",
    "    mae = mean_absolute_error(y_test, y_pred)\n",
    "    print(\"*** FOLD *** training: \" + trains[0]+ \" \" + trains[1] + \" | test: \" + test[0])\n",
    "    print(\"Fold score:\", score)\n",
    "    print(\"R-squared: \", r2)\n",
    "    print(\"MSE: \", mse)\n",
    "    print(\"RMSE: \", rmse)\n",
    "    print(\"MAE: \", mae)\n",
    "\n",
    "    # Print the best parameters and score\n",
    "    print(\"Best parameters: \", grid_search.best_params_)\n",
    "    print(\"Best score: \", grid_search.best_score_)"
   ]
  },
  {
   "attachments": {},
   "cell_type": "markdown",
   "metadata": {},
   "source": [
    "## XGBOOST"
   ]
  },
  {
   "cell_type": "code",
   "execution_count": 22,
   "metadata": {},
   "outputs": [
    {
     "name": "stdout",
     "output_type": "stream",
     "text": [
      "Fitting 5 folds for each of 384 candidates, totalling 1920 fits\n",
      "*** FOLD *** training: Netherlands UK | test: USA\n",
      "Fold score: 2.829087069148973\n",
      "R-squared:  -0.3273739075722957\n",
      "MSE:  2.829087069148973\n",
      "RMSE:  1.681989021708814\n",
      "MAE:  0.9037642899237963\n",
      "Best parameters:  {'colsample_bytree': 1, 'learning_rate': 0.1, 'max_depth': 3, 'n_estimators': 50, 'subsample': 0.8}\n",
      "Best score:  -0.022677074181330213\n",
      "Fitting 5 folds for each of 384 candidates, totalling 1920 fits\n",
      "*** FOLD *** training: Netherlands UK | test: USA\n",
      "Fold score: 0.3218394665700373\n",
      "R-squared:  -28.58874242747198\n",
      "MSE:  0.3218394665700373\n",
      "RMSE:  0.567308969231086\n",
      "MAE:  0.4134543880908087\n",
      "Best parameters:  {'colsample_bytree': 0.8, 'learning_rate': 0.1, 'max_depth': 10, 'n_estimators': 50, 'subsample': 1}\n",
      "Best score:  -1.4113930878591516\n",
      "Fitting 5 folds for each of 384 candidates, totalling 1920 fits\n",
      "*** FOLD *** training: Netherlands UK | test: USA\n",
      "Fold score: 0.3514573618674418\n",
      "R-squared:  -8.580286261454024\n",
      "MSE:  0.3514573618674418\n",
      "RMSE:  0.5928383943938195\n",
      "MAE:  0.3950501402688153\n",
      "Best parameters:  {'colsample_bytree': 0.8, 'learning_rate': 0.1, 'max_depth': 10, 'n_estimators': 50, 'subsample': 0.8}\n",
      "Best score:  -1.5940929789421152\n"
     ]
    }
   ],
   "source": [
    "import xgboost as xgb\n",
    "from sklearn.model_selection import GridSearchCV, KFold\n",
    "\n",
    "# Define the parameter grid to search\n",
    "param_grid = {'n_estimators': [50, 100, 200, 250, 300, 400],\n",
    "              'max_depth': [3, 5, 10, 15],\n",
    "              'learning_rate': [0.1, 0.3, 0.5, 1],\n",
    "              'subsample': [0.8, 1],\n",
    "              'colsample_bytree': [0.8, 1]\n",
    "              }\n",
    "\n",
    "# Iterate through the folds\n",
    "for train_index, test_index in city_cv:\n",
    "    # Use the indices to split the data\n",
    "    X_train, X_test = X.iloc[train_index], X.iloc[test_index]\n",
    "    y_train, y_test = y.iloc[train_index], y.iloc[test_index]\n",
    "\n",
    "    # Create the XGBoost model\n",
    "    xgb_reg = xgb.XGBRegressor(objective ='reg:squarederror')\n",
    "\n",
    "    # Create the grid search object\n",
    "    grid_search = GridSearchCV(xgb_reg,\n",
    "                   param_grid=param_grid,\n",
    "                   scoring='neg_mean_squared_error',\n",
    "                   verbose=True)\n",
    "\n",
    "    # Fit the grid search to the data\n",
    "    grid_search.fit(X_train, y_train)\n",
    "\n",
    "    #Run the model on the test split of the data\n",
    "    y_pred = grid_search.predict(X_test)\n",
    "    score = mean_squared_error(y_test, y_pred)\n",
    "    \n",
    "    #Calculate model statistics and print them\n",
    "    r2 = r2_score(y_test, y_pred)\n",
    "    mse = mean_squared_error(y_test, y_pred)\n",
    "    rmse = sqrt(mse)\n",
    "    mae = mean_absolute_error(y_test, y_pred)\n",
    "    print(\"*** FOLD *** training: \" + trains[0]+ \" \" + trains[1] + \" | test: \" + test[0])\n",
    "    print(\"Fold score:\", score)\n",
    "    print(\"R-squared: \", r2)\n",
    "    print(\"MSE: \", mse)\n",
    "    print(\"RMSE: \", rmse)\n",
    "    print(\"MAE: \", mae)\n",
    "\n",
    "    # Print the best parameters and score\n",
    "    print(\"Best parameters: \", grid_search.best_params_)\n",
    "    print(\"Best score: \", grid_search.best_score_)"
   ]
  },
  {
   "attachments": {},
   "cell_type": "markdown",
   "metadata": {},
   "source": [
    "## SVM"
   ]
  },
  {
   "cell_type": "code",
   "execution_count": 23,
   "metadata": {},
   "outputs": [
    {
     "name": "stdout",
     "output_type": "stream",
     "text": [
      "Fitting 5 folds for each of 18 candidates, totalling 90 fits\n"
     ]
    }
   ],
   "source": [
    "from sklearn.svm import SVR\n",
    "\n",
    "# Define the parameter grid to search\n",
    "param_grid = {'C': [0.1, 1, 10],\n",
    "              'gamma': [0.1, 1, 10],\n",
    "              'kernel': ['linear', 'rbf']\n",
    "              }\n",
    "\n",
    "# Iterate through the folds\n",
    "for train_index, test_index in city_cv:\n",
    "    # Use the indices to split the data\n",
    "    X_train, X_test = X.iloc[train_index], X.iloc[test_index]\n",
    "    y_train, y_test = y.iloc[train_index], y.iloc[test_index]\n",
    "\n",
    "    # Create the SVM model\n",
    "    svm = SVR()\n",
    "\n",
    "    # Create the grid search object\n",
    "    grid_search = GridSearchCV(svm,\n",
    "                    param_grid=param_grid,\n",
    "                    scoring='neg_mean_squared_error',\n",
    "                    verbose=True)\n",
    "\n",
    "    # Fit the grid search to the data\n",
    "    grid_search.fit(X_train, y_train)\n",
    "\n",
    "    #Run the model on the test split of the data\n",
    "    y_pred = grid_search.predict(X_test)\n",
    "    score = mean_squared_error(y_test, y_pred)\n",
    "    \n",
    "    #Calculate model statistics and print them\n",
    "    r2 = r2_score(y_test, y_pred)\n",
    "    mse = mean_squared_error(y_test, y_pred)\n",
    "    rmse = sqrt(mse)\n",
    "    mae = mean_absolute_error(y_test, y_pred)\n",
    "    print(\"*** FOLD *** training: \" + trains[0]+ \" \" + trains[1] + \" | test: \" + test[0])\n",
    "    print(\"Fold score:\", score)\n",
    "    print(\"R-squared: \", r2)\n",
    "    print(\"MSE: \", mse)\n",
    "    print(\"RMSE: \", rmse)\n",
    "    print(\"MAE: \", mae)\n",
    "\n",
    "    # Print the best parameters and score\n",
    "    print(\"Best parameters: \", grid_search.best_params_)\n",
    "    print(\"Best score: \", grid_search.best_score_)"
   ]
  },
  {
   "cell_type": "code",
   "execution_count": null,
   "metadata": {},
   "outputs": [],
   "source": []
  }
 ],
 "metadata": {
  "kernelspec": {
   "display_name": "ox",
   "language": "python",
   "name": "python3"
  },
  "language_info": {
   "codemirror_mode": {
    "name": "ipython",
    "version": 3
   },
   "file_extension": ".py",
   "mimetype": "text/x-python",
   "name": "python",
   "nbconvert_exporter": "python",
   "pygments_lexer": "ipython3",
   "version": "3.11.0"
  },
  "orig_nbformat": 4,
  "vscode": {
   "interpreter": {
    "hash": "e04e9d70aa0476d320a89e4247bc687a844ab51af6dd849df37511de572e0dcf"
   }
  }
 },
 "nbformat": 4,
 "nbformat_minor": 2
}
