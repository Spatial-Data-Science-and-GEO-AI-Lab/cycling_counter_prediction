{
 "cells": [
  {
   "cell_type": "code",
   "execution_count": null,
   "metadata": {},
   "outputs": [],
   "source": [
    "import shap\n",
    "import pickle\n",
    "import pandas as pd\n",
    "import pdpbox\n",
    "import numpy as np\n",
    "import dalex as dx\n",
    "import matplotlib.pyplot as plt\n",
    "from math import sqrt\n",
    "from sklearn.metrics import r2_score, mean_absolute_error, mean_squared_error\n",
    "from sklearn.inspection import PartialDependenceDisplay, partial_dependence\n",
    "from sklearn.model_selection import train_test_split\n",
    "from sklearn.preprocessing import StandardScaler"
   ]
  },
  {
   "cell_type": "code",
   "execution_count": null,
   "metadata": {},
   "outputs": [],
   "source": [
    "#Loading dataframe\n",
    "df = pd.read_csv('weekly_new.csv')\n",
    "df = df[['counts_week' ,'country', 'dist_to_greenspace', 'dist_to_edu', 'bike_points', 'bus_stops', 'business_shops', 'traffic_signals', 'cycle_length',\n",
    "         'lst_mean', 'pop_sum', 'build_area', 'ndvi_mean', 'dist_to_bikePOI', 'dist_to_train', '3_way_int_count', 'median_speed', 'orientation_entropy', 'lc_entropy',\n",
    "         'restaurants', 'dem_mean', 'dem_std']]\n",
    "\n",
    "\n",
    "\n",
    "# X_val = df\n",
    "# X_val = df[df['country'] == 'Netherlands']\n",
    "X_val = df[df['country'] == 'USA']\n",
    "# X_val = df[df['country'] == 'UK']\n",
    "\n",
    "y_a = X_val.loc[:,'counts_week']\n",
    "X = X_val.drop(['counts_week', 'country'], axis=1)\n",
    "\n",
    "# # Normalize dependent variable\n",
    "# scaler = StandardScaler()\n",
    "# data_scaled = scaler.fit_transform(y.values.reshape(-1, 1))\n",
    "# y = pd.Series(data_scaled.ravel())\n",
    "\n",
    "#Use natural log as normalization\n",
    "y_a = np.log(y_a + 1e-8).round(5)"
   ]
  },
  {
   "cell_type": "code",
   "execution_count": null,
   "metadata": {},
   "outputs": [],
   "source": [
    "#Create traintestsplit for machine learning models\n",
    "X_train, X_test, y_train, y_test = train_test_split(X, y_a, test_size=0.10, random_state=42)"
   ]
  },
  {
   "cell_type": "code",
   "execution_count": null,
   "metadata": {},
   "outputs": [],
   "source": [
    "#Opening the model for illustration\n",
    "model_path = '/Users/winke/Documents/University/Thesis/Predicting_cycling/models/standardized/us_rf_3.pkl'\n",
    "\n",
    "# Load the model from the file\n",
    "with open(model_path, \"rb\") as f:\n",
    "    loaded_model = pickle.load(f)"
   ]
  },
  {
   "cell_type": "code",
   "execution_count": null,
   "metadata": {},
   "outputs": [],
   "source": [
    "y_pred = loaded_model.predict(X_test)\n",
    "y_pred = np.exp(y_pred) - 1e-8\n",
    "\n",
    "mse = mean_squared_error(y_test, y_pred)\n",
    "rmse = sqrt(mse)\n",
    "print(rmse)"
   ]
  },
  {
   "cell_type": "code",
   "execution_count": null,
   "metadata": {},
   "outputs": [],
   "source": [
    "y_pred = 7.5\n",
    "y_actual = np.exp(y_pred) - 1e-8\n",
    "print(y_actual)"
   ]
  },
  {
   "cell_type": "code",
   "execution_count": null,
   "metadata": {},
   "outputs": [],
   "source": [
    "#Creating scatterplots between actual and predicted outcomes\n",
    "\n",
    "city = 'Philadelphia'\n",
    "\n",
    "df_scat = pd.read_csv('/Users/winke/Documents/University/Thesis/Predicting_cycling/models/weekly_new.csv')\n",
    "\n",
    "df_scat = df_scat[['counts_week', 'city', 'country', 'dist_to_greenspace', 'dist_to_edu', 'bike_points', 'bus_stops', 'business_shops', 'traffic_signals', 'cycle_length',\n",
    "         'lst_mean', 'pop_sum', 'build_area', 'ndvi_mean', 'dist_to_bikePOI', 'dist_to_train', '3_way_int_count', 'median_speed', 'orientation_entropy', 'lc_entropy',\n",
    "         'restaurants', 'dem_mean', 'dem_std']]\n",
    "\n",
    "df_scat = df_scat[df_scat['city'] == city]\n",
    "\n",
    "\n",
    "y_a = df_scat.loc[:,'counts_week']\n",
    "X = df_scat.drop(['counts_week', 'country', 'city'], axis=1)\n",
    "\n",
    "#Opening the model for illustration\n",
    "model_path = '/Users/winke/Documents/University/Thesis/Predicting_cycling/models/standardized/us_rf_3.pkl'\n",
    "\n",
    "# Load the model from the file\n",
    "with open(model_path, \"rb\") as f:\n",
    "    scatter_model = pickle.load(f)\n",
    "    \n",
    "y_pred = loaded_model.predict(X)\n",
    "y_pred = np.exp(y_pred) - 1e-8\n",
    "\n",
    "print(y_pred)\n",
    "scatter = pd.DataFrame()\n",
    "\n",
    "scatter['Actual weekly count'] = y_a\n",
    "scatter['Predicted weekly count'] = y_pred\n",
    "\n",
    "f, ax = plt.subplots()\n",
    "plt.scatter(y_a, y_pred, color='black')\n",
    "slope, intercept = np.polyfit(y_a, y_pred, 1)\n",
    "r2 = r2_score(y_a, y_pred).round(3)\n",
    "\n",
    "plt.text(.01, .99, s='R2: ' + str(r2), ha='left', va='top', transform=ax.transAxes, fontsize=14)\n",
    "plt.plot(y_a, slope * y_a + intercept, color='red')\n",
    "plt.xlabel('Actual weekly count', fontname='Times New Roman', fontsize=14)\n",
    "plt.ylabel('Predicted weekly count', fontname='Times New Roman', fontsize=14)\n",
    "plt.subplots_adjust(left=0.15)\n",
    "plt.savefig('/Users/winke/Documents/University/Thesis/Predicting_cycling/models/Figures/Scatter plot/'+city+'.png', dpi=300)\n",
    "\n",
    "plt.show()\n",
    "print(r2)"
   ]
  },
  {
   "cell_type": "code",
   "execution_count": null,
   "metadata": {},
   "outputs": [],
   "source": []
  },
  {
   "cell_type": "code",
   "execution_count": null,
   "metadata": {},
   "outputs": [],
   "source": [
    "_, ax = plt.subplots(ncols=3, figsize=(12, 4), sharey=True, constrained_layout=True)\n",
    "\n",
    "features_info = {\n",
    "    \"features\": ['dem_mean', 'cycle_length', 'lst_mean'],\n",
    "    \"kind\": \"both\"\n",
    "}\n",
    "\n",
    "display = PartialDependenceDisplay.from_estimator(\n",
    "    loaded_model,\n",
    "    X_train,\n",
    "    **features_info,\n",
    "    ax=ax\n",
    ")"
   ]
  },
  {
   "cell_type": "code",
   "execution_count": null,
   "metadata": {},
   "outputs": [],
   "source": [
    "plt.rc('xtick', labelsize=16) \n",
    "_, ax = plt.subplots(nrows=2, ncols=5, figsize=(20, 8), sharey=True, constrained_layout=True)\n",
    "\n",
    "# features_info = {\n",
    "#     \"features\": ['dem_mean'],\n",
    "#     \"kind\": \"average\"\n",
    "# }\n",
    "\n",
    "features_info = {\n",
    "    \"features\": ['dem_mean', 'cycle_length', 'lst_mean', 'pop_sum', 'traffic_signals', 'dist_to_edu', 'dist_to_greenspace', 'median_speed', \n",
    "                 'dist_to_train', 'bike_points'],\n",
    "    \"kind\": \"average\"\n",
    "}\n",
    "\n",
    "display = PartialDependenceDisplay.from_estimator(\n",
    "    loaded_model,\n",
    "    X_train,\n",
    "    **features_info,\n",
    "    ax=ax\n",
    ")\n",
    "# # add a horizontal line\n",
    "# plt.axhline(y=7.82, color='red', linestyle='--')\n",
    "# plt.axhline(y=8.922658, color='red', linestyle='--')\n",
    "# plt.axhline(y=8.5171931, color='red', linestyle='--')\n",
    "\n",
    "plt.savefig('pdp_us.png', dpi=300)"
   ]
  },
  {
   "cell_type": "code",
   "execution_count": null,
   "metadata": {},
   "outputs": [],
   "source": [
    "_, ax = plt.subplots(ncols=2, figsize=(8, 4), sharey=True, constrained_layout=True)\n",
    "\n",
    "features_info = {\n",
    "    \"features\": ['pop_sum', 'traffic_signals'],\n",
    "    \"kind\": \"average\"\n",
    "}\n",
    "\n",
    "display = PartialDependenceDisplay.from_estimator(\n",
    "    loaded_model,\n",
    "    X_train,\n",
    "    **features_info,\n",
    "    ax=ax\n",
    ")"
   ]
  },
  {
   "cell_type": "code",
   "execution_count": null,
   "metadata": {},
   "outputs": [],
   "source": [
    "#Iterate through variables and print the ICE plot for each of them\n",
    "# Create an explainer for the model\n",
    "exp = dx.Explainer(loaded_model, X, y, label=\"Random Forest\")\n",
    "\n",
    "# Generate partial dependence profiles for the first three features\n",
    "pd_rf = exp.model_profile(variables = ['dem_mean', 'cycle_length', 'lst_mean'])\n",
    "\n",
    "pd_rf.plot(geom = 'profiles')"
   ]
  },
  {
   "cell_type": "code",
   "execution_count": null,
   "metadata": {},
   "outputs": [],
   "source": [
    "y_pred = loaded_model.predict(X_test)\n",
    "print(y_pred)\n",
    "y_actual = np.exp(y_pred) - 1e-8\n",
    "print(y_actual)"
   ]
  },
  {
   "cell_type": "code",
   "execution_count": null,
   "metadata": {},
   "outputs": [],
   "source": []
  },
  {
   "cell_type": "code",
   "execution_count": null,
   "metadata": {},
   "outputs": [],
   "source": [
    "#Produce all SHAP values\n",
    "#Using SHAP to explain things\n",
    "explainer = shap.Explainer(loaded_model, X_train)\n",
    "shap_values = explainer(X, check_additivity=False)\n",
    "\n",
    "# shap_values.display_data = shap.datasets.adult(display=True)[0].values\n",
    "\n",
    "#Shap dependence plot\n",
    "#Shap \n",
    "#Grouping PDP\n",
    "\n",
    "\n",
    "shap.plots.beeswarm(shap_values, max_display=20)\n"
   ]
  },
  {
   "cell_type": "code",
   "execution_count": null,
   "metadata": {},
   "outputs": [],
   "source": [
    "shap.plots.scatter(shap_values[:,'dem_mean'], color=shap_values[:,\"cycle_length\"], show=False)\n",
    "plt.savefig('int_plot1.png', dpi=300)"
   ]
  },
  {
   "cell_type": "code",
   "execution_count": null,
   "metadata": {},
   "outputs": [],
   "source": [
    "shap.plots.scatter(shap_values[:,'cycle_length'], color=shap_values[:,\"lst_mean\"], show=False)\n",
    "plt.savefig('int_plot2.png', dpi=300)"
   ]
  },
  {
   "cell_type": "code",
   "execution_count": null,
   "metadata": {},
   "outputs": [],
   "source": [
    "shap.plots.scatter(shap_values[:,'lst_mean'], color=shap_values[:,\"pop_sum\"], show=False)\n",
    "plt.savefig('int_plot3.png', dpi=300)"
   ]
  },
  {
   "cell_type": "code",
   "execution_count": null,
   "metadata": {},
   "outputs": [],
   "source": [
    "shap.plots.scatter(shap_values[:,'pop_sum'], color=shap_values[:,\"traffic_signals\"], show=False)\n",
    "plt.savefig('int_plot4.png', dpi=300)"
   ]
  },
  {
   "cell_type": "code",
   "execution_count": null,
   "metadata": {},
   "outputs": [],
   "source": [
    "shap.plots.scatter(shap_values[:,'traffic_signals'], color=shap_values[:,\"dem_mean\"], show=False)\n",
    "plt.savefig('int_plot5.png', dpi=300)"
   ]
  },
  {
   "cell_type": "code",
   "execution_count": null,
   "metadata": {},
   "outputs": [],
   "source": [
    "plt.rc('xtick', labelsize=16) \n",
    "_, ax = plt.subplots(nrows=1, ncols=5, figsize=(20, 4), sharey=True, constrained_layout=True)\n",
    "\n",
    "#editing\n",
    "# features_info = {\n",
    "#     \"features\": ['dem_mean'],\n",
    "#     \"kind\": \"average\"\n",
    "# }\n",
    "\n",
    "features_info = {\n",
    "    \"features\": ['dem_std', 'ndvi_mean', 'bike_points', 'lst_mean', 'dem_mean'],\n",
    "    \"kind\": \"average\"\n",
    "}\n",
    "\n",
    "display = PartialDependenceDisplay.from_estimator(\n",
    "    loaded_model,\n",
    "    X_train,\n",
    "    **features_info,\n",
    "    ax=ax\n",
    ")\n",
    "# # add a horizontal line\n",
    "# plt.axhline(y=7.82, color='red', linestyle='--')\n",
    "# plt.axhline(y=8.922658, color='red', linestyle='--')\n",
    "# plt.axhline(y=8.5171931, color='red', linestyle='--')\n",
    "\n",
    "plt.savefig('pdp_us_2.png', dpi=300)"
   ]
  },
  {
   "cell_type": "code",
   "execution_count": null,
   "metadata": {},
   "outputs": [],
   "source": []
  }
 ],
 "metadata": {
  "kernelspec": {
   "display_name": "ml",
   "language": "python",
   "name": "python3"
  },
  "language_info": {
   "codemirror_mode": {
    "name": "ipython",
    "version": 3
   },
   "file_extension": ".py",
   "mimetype": "text/x-python",
   "name": "python",
   "nbconvert_exporter": "python",
   "pygments_lexer": "ipython3",
   "version": "3.10.0"
  },
  "orig_nbformat": 4,
  "vscode": {
   "interpreter": {
    "hash": "8794ba5723f3a63e895a9300187a0c279dca75a37113b6a48c61e29ffb05a139"
   }
  }
 },
 "nbformat": 4,
 "nbformat_minor": 2
}
