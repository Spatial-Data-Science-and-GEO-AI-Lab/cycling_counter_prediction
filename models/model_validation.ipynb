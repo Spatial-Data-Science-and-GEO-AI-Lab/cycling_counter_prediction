{
 "cells": [
  {
   "attachments": {},
   "cell_type": "markdown",
   "metadata": {},
   "source": [
    "### Model validation: Predicting Paris"
   ]
  },
  {
   "cell_type": "code",
   "execution_count": null,
   "metadata": {},
   "outputs": [],
   "source": [
    "import shap\n",
    "import pickle\n",
    "import numpy as np\n",
    "import pandas as pd\n",
    "import xgboost as xgb\n",
    "import statsmodels.api as sm\n",
    "import matplotlib as plt\n",
    "from math import sqrt\n",
    "from sklearn.svm import SVR\n",
    "from sklearn.metrics import r2_score, mean_absolute_error, mean_squared_error\n",
    "from sklearn.preprocessing import StandardScaler\n",
    "from sklearn.ensemble import RandomForestRegressor\n",
    "from sklearn.model_selection import GridSearchCV, KFold\n",
    "from sklearn.model_selection import train_test_split\n",
    "from statsmodels.stats.outliers_influence import variance_inflation_factor"
   ]
  },
  {
   "cell_type": "code",
   "execution_count": null,
   "metadata": {},
   "outputs": [],
   "source": [
    "paris = pd.read_csv(\"/Users/winke/Documents/University/Thesis/Predicting_cycling/models/testing.csv\")\n",
    "paris = paris[['cycle_length', 'lst_mean', 'pop_sum', 'dem_mean', 'build_area', 'street_length_total',\n",
    "          'ndvi_mean', 'restaurants', 'dist_to_bikePOI', 'bike_points', 'daily_shops', 'median_speed', 'business_shops',\n",
    "           'traffic_signals', 'dist_to_edu', 'dist_to_train', 'streets_per_node_avg', 'circuity_avg', 'lc_entropy', 'bus_stops', 'dist_to_greenspace', '3_way_int_count']]\n",
    "\n",
    "# Load the saved model\n",
    "with open('/Users/winke/Documents/University/Thesis/Predicting_cycling/models/saved_models/all_xgb.pkl', 'rb') as f:\n",
    "    loaded_xgb = pickle.load(f)"
   ]
  },
  {
   "cell_type": "code",
   "execution_count": null,
   "metadata": {},
   "outputs": [],
   "source": [
    "# Use the XGBoost model to make predictions on the new dataset\n",
    "y_new_pred = loaded_xgb.predict(paris.values)\n",
    "y_series = pd.Series(y_new_pred)\n",
    "\n",
    "#TODO: fix unscaling of the variable\n",
    "y_unscaled = scaler.inverse_transform(y_series.values.reshape(-1, 1))\n",
    "y = pd.Series(y_unscaled.ravel())\n",
    "print(y)"
   ]
  }
 ],
 "metadata": {
  "kernelspec": {
   "display_name": "ml",
   "language": "python",
   "name": "python3"
  },
  "language_info": {
   "name": "python",
   "version": "3.10.0"
  },
  "orig_nbformat": 4,
  "vscode": {
   "interpreter": {
    "hash": "8794ba5723f3a63e895a9300187a0c279dca75a37113b6a48c61e29ffb05a139"
   }
  }
 },
 "nbformat": 4,
 "nbformat_minor": 2
}
