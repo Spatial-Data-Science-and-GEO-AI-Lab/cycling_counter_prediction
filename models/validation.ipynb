{
 "cells": [
  {
   "cell_type": "code",
   "execution_count": 95,
   "metadata": {},
   "outputs": [],
   "source": [
    "import shap\n",
    "import pickle\n",
    "import pandas as pd\n",
    "import numpy as np\n",
    "import dalex as dx\n",
    "import matplotlib as plt\n",
    "from math import sqrt\n",
    "from sklearn.inspection import PartialDependenceDisplay\n",
    "from sklearn.model_selection import train_test_split\n",
    "from sklearn.preprocessing import StandardScaler\n",
    "from sklearn.metrics import r2_score, mean_absolute_error, mean_squared_error"
   ]
  },
  {
   "cell_type": "code",
   "execution_count": 110,
   "metadata": {},
   "outputs": [],
   "source": [
    "#Opening the model for illustration\n",
    "model_path = '/Users/winke/Documents/University/Thesis/Predicting_cycling/models/standardized/nl_xgb_2.pkl'\n",
    "\n",
    "# Load the model from the file\n",
    "with open(model_path, \"rb\") as f:\n",
    "    loaded_model = pickle.load(f)\n",
    "\n",
    "#Load csv\n",
    "df1 = pd.read_csv(\"/Users/winke/Documents/University/Thesis/Predicting_cycling/models/validation_counts.csv\")\n",
    "df = pd.read_csv(\"/Users/winke/Documents/University/Thesis/Predicting_cycling/models/weekly_new.csv\")\n",
    "\n",
    "y_scaled = df.loc[:,'counts_week']\n",
    "\n",
    "# df1 = df1[df1['country'] == 'Ireland']\n",
    "y_val = df1.loc[:,'counts_week']\n",
    "\n",
    "X_val = df1[['country', 'dist_to_greenspace', 'dist_to_edu', 'bike_points', 'bus_stops', 'business_shops', 'traffic_signals', 'cycle_length',\n",
    "         'lst_mean', 'pop_sum', 'build_area', 'ndvi_mean', 'dist_to_bikePOI', 'dist_to_train', '3_way_int_count', 'median_speed', 'orientation_entropy', 'lc_entropy',\n",
    "         'restaurants', 'dem_mean', 'dem_std']]\n",
    "\n",
    "\n",
    "X_val = X_val.drop(\"country\", axis=1)\n",
    "\n",
    "# # Normalize dependent variable\n",
    "# scaler = StandardScaler()\n",
    "# data_fit= scaler.fit(y_scaled.values.reshape(-1, 1))\n",
    "# data_tran = scaler.transform(y_val.values.reshape(-1, 1))\n",
    "# y = pd.Series(data_tran.ravel())\n",
    "\n",
    "#Normalize validation set\n",
    "\n",
    "# #Use natural log as normalization\n",
    "# y = np.log(y_val + 1e-8).round(5)\n",
    "# y.to_csv(\"y_std.csv\")"
   ]
  },
  {
   "cell_type": "code",
   "execution_count": 111,
   "metadata": {},
   "outputs": [],
   "source": [
    "y_pred = loaded_model.predict(X_val)\n",
    "\n",
    "series = pd.Series(y_pred)\n",
    "series.to_csv(\"valdiation_results_nl_xgb.csv\")"
   ]
  },
  {
   "cell_type": "code",
   "execution_count": 112,
   "metadata": {},
   "outputs": [
    {
     "name": "stdout",
     "output_type": "stream",
     "text": [
      "-44091891971.18559\n",
      "168663.489687185\n"
     ]
    }
   ],
   "source": [
    "mse = mean_squared_error(y, y_pred)\n",
    "rmse = sqrt(mse)\n",
    "r2 = r2_score(y, y_pred)\n",
    "print(r2)\n",
    "print(rmse)"
   ]
  },
  {
   "cell_type": "code",
   "execution_count": 99,
   "metadata": {},
   "outputs": [],
   "source": [
    "count_outcome = np.exp(series - 1e-8)"
   ]
  },
  {
   "cell_type": "code",
   "execution_count": 113,
   "metadata": {},
   "outputs": [
    {
     "name": "stdout",
     "output_type": "stream",
     "text": [
      "4.383712595934346\n"
     ]
    }
   ],
   "source": [
    "x = 1.477896\n",
    "\n",
    "print(np.exp(x - 1e-8))"
   ]
  },
  {
   "cell_type": "code",
   "execution_count": 94,
   "metadata": {},
   "outputs": [],
   "source": [
    "count_outcome.to_csv(\"count_outcomes.csv\")"
   ]
  },
  {
   "cell_type": "code",
   "execution_count": null,
   "metadata": {},
   "outputs": [],
   "source": []
  }
 ],
 "metadata": {
  "kernelspec": {
   "display_name": "ml",
   "language": "python",
   "name": "python3"
  },
  "language_info": {
   "codemirror_mode": {
    "name": "ipython",
    "version": 3
   },
   "file_extension": ".py",
   "mimetype": "text/x-python",
   "name": "python",
   "nbconvert_exporter": "python",
   "pygments_lexer": "ipython3",
   "version": "3.10.0"
  },
  "orig_nbformat": 4,
  "vscode": {
   "interpreter": {
    "hash": "8794ba5723f3a63e895a9300187a0c279dca75a37113b6a48c61e29ffb05a139"
   }
  }
 },
 "nbformat": 4,
 "nbformat_minor": 2
}
