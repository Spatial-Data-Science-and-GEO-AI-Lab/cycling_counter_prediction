{
 "cells": [
  {
   "cell_type": "code",
   "execution_count": 4,
   "metadata": {},
   "outputs": [],
   "source": [
    "import pandas as pd\n",
    "import numpy as np\n",
    "import statsmodels.api as sm\n",
    "from sklearn.linear_model import LinearRegression\n",
    "from sklearn.preprocessing import StandardScaler\n",
    "from sklearn.model_selection import train_test_split\n",
    "from statsmodels.stats.outliers_influence import variance_inflation_factor"
   ]
  },
  {
   "attachments": {},
   "cell_type": "markdown",
   "metadata": {},
   "source": [
    "### TODO\n",
    "- Normalisation\n",
    "- Select the models\n",
    "- Define hyperparameters\n",
    "- Run & Evaluate the models\n",
    "- Partial dependence, VIF, DD-plot, interaction\n",
    "\n",
    "- Explaining the best model"
   ]
  },
  {
   "attachments": {},
   "cell_type": "markdown",
   "metadata": {},
   "source": [
    "# Netherlands"
   ]
  },
  {
   "cell_type": "code",
   "execution_count": 5,
   "metadata": {},
   "outputs": [],
   "source": [
    "#Import csv and remove non-numerical variables\n",
    "df = pd.read_csv('weekly_counts_stats.csv')\n",
    "df = df.drop(['city', 'name', 'year', 'week', 'latitude', 'longitude'] , axis=1)\n",
    "\n",
    "#Select country and drop column\n",
    "country = df[df['country'] == 'Netherlands']\n",
    "country = country.drop('country', axis=1)\n",
    "\n",
    "#Count variable as stratify\n",
    "target = country.loc[:,'counts_week']\n",
    "data = country.drop('counts_week', axis=1)\n",
    "\n",
    "#Normalize counter data\n",
    "scaler = StandardScaler()\n",
    "target = target.to_numpy().reshape(-1, 1)\n",
    "y = scaler.fit_transform(target)\n"
   ]
  },
  {
   "cell_type": "code",
   "execution_count": 6,
   "metadata": {},
   "outputs": [
    {
     "name": "stdout",
     "output_type": "stream",
     "text": [
      "                            OLS Regression Results                            \n",
      "==============================================================================\n",
      "Dep. Variable:                      y   R-squared:                       0.438\n",
      "Model:                            OLS   Adj. R-squared:                  0.379\n",
      "Method:                 Least Squares   F-statistic:                     7.390\n",
      "Date:                Fri, 27 Jan 2023   Prob (F-statistic):           1.99e-22\n",
      "Time:                        13:09:00   Log-Likelihood:                -368.66\n",
      "No. Observations:                 326   AIC:                             801.3\n",
      "Df Residuals:                     294   BIC:                             922.5\n",
      "Df Model:                          31                                         \n",
      "Covariance Type:            nonrobust                                         \n",
      "=========================================================================================\n",
      "                            coef    std err          t      P>|t|      [0.025      0.975]\n",
      "-----------------------------------------------------------------------------------------\n",
      "const                    -3.4231      5.053     -0.677      0.499     -13.368       6.522\n",
      "nodes                     0.0122      0.005      2.490      0.013       0.003       0.022\n",
      "edges                    -0.0029      0.002     -1.184      0.237      -0.008       0.002\n",
      "k_avg                    -0.1124      0.262     -0.429      0.668      -0.628       0.403\n",
      "intersection_count       -0.0251      0.005     -5.010      0.000      -0.035      -0.015\n",
      "streets_per_node_avg      1.2977      0.724      1.793      0.074      -0.127       2.722\n",
      "edge_length_total     -2.275e-06   6.17e-05     -0.037      0.971      -0.000       0.000\n",
      "edge_length_avg          -0.0120      0.041     -0.295      0.768      -0.092       0.068\n",
      "street_length_total   -3.613e-06      0.000     -0.033      0.973      -0.000       0.000\n",
      "street_length_avg         0.0149      0.040      0.372      0.710      -0.064       0.094\n",
      "street_segments_count     0.0130      0.005      2.409      0.017       0.002       0.024\n",
      "circuity_avg             -0.4935      2.528     -0.195      0.845      -5.469       4.482\n",
      "self_loop_proportion     -0.0845     18.372     -0.005      0.996     -36.242      36.073\n",
      "bike_points               0.0188      0.022      0.868      0.386      -0.024       0.062\n",
      "bus_stops                -0.0407      0.020     -2.079      0.038      -0.079      -0.002\n",
      "restaurants               0.0015      0.008      0.192      0.848      -0.014       0.017\n",
      "shop_list                 0.0078      0.045      0.173      0.863      -0.081       0.097\n",
      "cycle_length           -1.43e-05   6.47e-05     -0.221      0.825      -0.000       0.000\n",
      "dist_to_greenspace       -0.0009      0.001     -0.923      0.357      -0.003       0.001\n",
      "dist_to_bike             -0.0006      0.001     -0.702      0.483      -0.002       0.001\n",
      "build_area            -2.457e-07   1.38e-06     -0.178      0.859   -2.97e-06    2.48e-06\n",
      "ndvi_mean                -0.0722      0.548     -0.132      0.895      -1.151       1.006\n",
      "ndvi_std                  0.1693      1.428      0.119      0.906      -2.641       2.980\n",
      "dem_mean                 -0.0184      0.005     -3.693      0.000      -0.028      -0.009\n",
      "dem_std                   0.0106      0.045      0.235      0.815      -0.078       0.100\n",
      "lst_mean                  0.0003      0.012      0.027      0.978      -0.024       0.025\n",
      "lst_std                   0.2418      0.106      2.286      0.023       0.034       0.450\n",
      "pop_mean                  0.0191      0.007      2.617      0.009       0.005       0.034\n",
      "pop_std                   0.0046      0.029      0.159      0.874      -0.052       0.061\n",
      "landuse_entropy          -0.2512      0.536     -0.469      0.640      -1.306       0.804\n",
      "3_way_int_count          -0.0091      0.007     -1.276      0.203      -0.023       0.005\n",
      "4_way_int_count          -0.0213      0.016     -1.367      0.173      -0.052       0.009\n",
      "==============================================================================\n",
      "Omnibus:                       77.469   Durbin-Watson:                   0.847\n",
      "Prob(Omnibus):                  0.000   Jarque-Bera (JB):              170.419\n",
      "Skew:                           1.188   Prob(JB):                     9.86e-38\n",
      "Kurtosis:                       5.627   Cond. No.                     5.17e+07\n",
      "==============================================================================\n",
      "\n",
      "Notes:\n",
      "[1] Standard Errors assume that the covariance matrix of the errors is correctly specified.\n",
      "[2] The condition number is large, 5.17e+07. This might indicate that there are\n",
      "strong multicollinearity or other numerical problems.\n"
     ]
    }
   ],
   "source": [
    "X = sm.add_constant(data)\n",
    "\n",
    "model = sm.OLS(y, X).fit()\n",
    "\n",
    "print(model.summary())"
   ]
  },
  {
   "cell_type": "code",
   "execution_count": 11,
   "metadata": {},
   "outputs": [
    {
     "ename": "KeyError",
     "evalue": "'[0] not found in axis'",
     "output_type": "error",
     "traceback": [
      "\u001b[0;31m---------------------------------------------------------------------------\u001b[0m",
      "\u001b[0;31mKeyError\u001b[0m                                  Traceback (most recent call last)",
      "Cell \u001b[0;32mIn[11], line 4\u001b[0m\n\u001b[1;32m      2\u001b[0m X_new \u001b[39m=\u001b[39m data\u001b[39m.\u001b[39mcopy()\n\u001b[1;32m      3\u001b[0m p_values \u001b[39m=\u001b[39m model\u001b[39m.\u001b[39mpvalues\n\u001b[0;32m----> 4\u001b[0m p_values\u001b[39m.\u001b[39;49mdrop([\u001b[39m0\u001b[39;49m])\n\u001b[1;32m      5\u001b[0m \u001b[39mprint\u001b[39m(X_new\u001b[39m.\u001b[39mcolumns)\n\u001b[1;32m      6\u001b[0m \u001b[39mprint\u001b[39m(p_values)\n",
      "File \u001b[0;32m~/opt/anaconda3/envs/ox/lib/python3.11/site-packages/pandas/util/_decorators.py:331\u001b[0m, in \u001b[0;36mdeprecate_nonkeyword_arguments.<locals>.decorate.<locals>.wrapper\u001b[0;34m(*args, **kwargs)\u001b[0m\n\u001b[1;32m    325\u001b[0m \u001b[39mif\u001b[39;00m \u001b[39mlen\u001b[39m(args) \u001b[39m>\u001b[39m num_allow_args:\n\u001b[1;32m    326\u001b[0m     warnings\u001b[39m.\u001b[39mwarn(\n\u001b[1;32m    327\u001b[0m         msg\u001b[39m.\u001b[39mformat(arguments\u001b[39m=\u001b[39m_format_argument_list(allow_args)),\n\u001b[1;32m    328\u001b[0m         \u001b[39mFutureWarning\u001b[39;00m,\n\u001b[1;32m    329\u001b[0m         stacklevel\u001b[39m=\u001b[39mfind_stack_level(),\n\u001b[1;32m    330\u001b[0m     )\n\u001b[0;32m--> 331\u001b[0m \u001b[39mreturn\u001b[39;00m func(\u001b[39m*\u001b[39;49margs, \u001b[39m*\u001b[39;49m\u001b[39m*\u001b[39;49mkwargs)\n",
      "File \u001b[0;32m~/opt/anaconda3/envs/ox/lib/python3.11/site-packages/pandas/core/series.py:5237\u001b[0m, in \u001b[0;36mSeries.drop\u001b[0;34m(self, labels, axis, index, columns, level, inplace, errors)\u001b[0m\n\u001b[1;32m   5140\u001b[0m \u001b[39m@deprecate_nonkeyword_arguments\u001b[39m(version\u001b[39m=\u001b[39m\u001b[39mNone\u001b[39;00m, allowed_args\u001b[39m=\u001b[39m[\u001b[39m\"\u001b[39m\u001b[39mself\u001b[39m\u001b[39m\"\u001b[39m, \u001b[39m\"\u001b[39m\u001b[39mlabels\u001b[39m\u001b[39m\"\u001b[39m])\n\u001b[1;32m   5141\u001b[0m \u001b[39mdef\u001b[39;00m \u001b[39mdrop\u001b[39m(  \u001b[39m# type: ignore[override]\u001b[39;00m\n\u001b[1;32m   5142\u001b[0m     \u001b[39mself\u001b[39m,\n\u001b[0;32m   (...)\u001b[0m\n\u001b[1;32m   5149\u001b[0m     errors: IgnoreRaise \u001b[39m=\u001b[39m \u001b[39m\"\u001b[39m\u001b[39mraise\u001b[39m\u001b[39m\"\u001b[39m,\n\u001b[1;32m   5150\u001b[0m ) \u001b[39m-\u001b[39m\u001b[39m>\u001b[39m Series \u001b[39m|\u001b[39m \u001b[39mNone\u001b[39;00m:\n\u001b[1;32m   5151\u001b[0m \u001b[39m    \u001b[39m\u001b[39m\"\"\"\u001b[39;00m\n\u001b[1;32m   5152\u001b[0m \u001b[39m    Return Series with specified index labels removed.\u001b[39;00m\n\u001b[1;32m   5153\u001b[0m \n\u001b[0;32m   (...)\u001b[0m\n\u001b[1;32m   5235\u001b[0m \u001b[39m    dtype: float64\u001b[39;00m\n\u001b[1;32m   5236\u001b[0m \u001b[39m    \"\"\"\u001b[39;00m\n\u001b[0;32m-> 5237\u001b[0m     \u001b[39mreturn\u001b[39;00m \u001b[39msuper\u001b[39;49m()\u001b[39m.\u001b[39;49mdrop(\n\u001b[1;32m   5238\u001b[0m         labels\u001b[39m=\u001b[39;49mlabels,\n\u001b[1;32m   5239\u001b[0m         axis\u001b[39m=\u001b[39;49maxis,\n\u001b[1;32m   5240\u001b[0m         index\u001b[39m=\u001b[39;49mindex,\n\u001b[1;32m   5241\u001b[0m         columns\u001b[39m=\u001b[39;49mcolumns,\n\u001b[1;32m   5242\u001b[0m         level\u001b[39m=\u001b[39;49mlevel,\n\u001b[1;32m   5243\u001b[0m         inplace\u001b[39m=\u001b[39;49minplace,\n\u001b[1;32m   5244\u001b[0m         errors\u001b[39m=\u001b[39;49merrors,\n\u001b[1;32m   5245\u001b[0m     )\n",
      "File \u001b[0;32m~/opt/anaconda3/envs/ox/lib/python3.11/site-packages/pandas/util/_decorators.py:331\u001b[0m, in \u001b[0;36mdeprecate_nonkeyword_arguments.<locals>.decorate.<locals>.wrapper\u001b[0;34m(*args, **kwargs)\u001b[0m\n\u001b[1;32m    325\u001b[0m \u001b[39mif\u001b[39;00m \u001b[39mlen\u001b[39m(args) \u001b[39m>\u001b[39m num_allow_args:\n\u001b[1;32m    326\u001b[0m     warnings\u001b[39m.\u001b[39mwarn(\n\u001b[1;32m    327\u001b[0m         msg\u001b[39m.\u001b[39mformat(arguments\u001b[39m=\u001b[39m_format_argument_list(allow_args)),\n\u001b[1;32m    328\u001b[0m         \u001b[39mFutureWarning\u001b[39;00m,\n\u001b[1;32m    329\u001b[0m         stacklevel\u001b[39m=\u001b[39mfind_stack_level(),\n\u001b[1;32m    330\u001b[0m     )\n\u001b[0;32m--> 331\u001b[0m \u001b[39mreturn\u001b[39;00m func(\u001b[39m*\u001b[39;49margs, \u001b[39m*\u001b[39;49m\u001b[39m*\u001b[39;49mkwargs)\n",
      "File \u001b[0;32m~/opt/anaconda3/envs/ox/lib/python3.11/site-packages/pandas/core/generic.py:4505\u001b[0m, in \u001b[0;36mNDFrame.drop\u001b[0;34m(self, labels, axis, index, columns, level, inplace, errors)\u001b[0m\n\u001b[1;32m   4503\u001b[0m \u001b[39mfor\u001b[39;00m axis, labels \u001b[39min\u001b[39;00m axes\u001b[39m.\u001b[39mitems():\n\u001b[1;32m   4504\u001b[0m     \u001b[39mif\u001b[39;00m labels \u001b[39mis\u001b[39;00m \u001b[39mnot\u001b[39;00m \u001b[39mNone\u001b[39;00m:\n\u001b[0;32m-> 4505\u001b[0m         obj \u001b[39m=\u001b[39m obj\u001b[39m.\u001b[39;49m_drop_axis(labels, axis, level\u001b[39m=\u001b[39;49mlevel, errors\u001b[39m=\u001b[39;49merrors)\n\u001b[1;32m   4507\u001b[0m \u001b[39mif\u001b[39;00m inplace:\n\u001b[1;32m   4508\u001b[0m     \u001b[39mself\u001b[39m\u001b[39m.\u001b[39m_update_inplace(obj)\n",
      "File \u001b[0;32m~/opt/anaconda3/envs/ox/lib/python3.11/site-packages/pandas/core/generic.py:4546\u001b[0m, in \u001b[0;36mNDFrame._drop_axis\u001b[0;34m(self, labels, axis, level, errors, only_slice)\u001b[0m\n\u001b[1;32m   4544\u001b[0m         new_axis \u001b[39m=\u001b[39m axis\u001b[39m.\u001b[39mdrop(labels, level\u001b[39m=\u001b[39mlevel, errors\u001b[39m=\u001b[39merrors)\n\u001b[1;32m   4545\u001b[0m     \u001b[39melse\u001b[39;00m:\n\u001b[0;32m-> 4546\u001b[0m         new_axis \u001b[39m=\u001b[39m axis\u001b[39m.\u001b[39;49mdrop(labels, errors\u001b[39m=\u001b[39;49merrors)\n\u001b[1;32m   4547\u001b[0m     indexer \u001b[39m=\u001b[39m axis\u001b[39m.\u001b[39mget_indexer(new_axis)\n\u001b[1;32m   4549\u001b[0m \u001b[39m# Case for non-unique axis\u001b[39;00m\n\u001b[1;32m   4550\u001b[0m \u001b[39melse\u001b[39;00m:\n",
      "File \u001b[0;32m~/opt/anaconda3/envs/ox/lib/python3.11/site-packages/pandas/core/indexes/base.py:6934\u001b[0m, in \u001b[0;36mIndex.drop\u001b[0;34m(self, labels, errors)\u001b[0m\n\u001b[1;32m   6932\u001b[0m \u001b[39mif\u001b[39;00m mask\u001b[39m.\u001b[39many():\n\u001b[1;32m   6933\u001b[0m     \u001b[39mif\u001b[39;00m errors \u001b[39m!=\u001b[39m \u001b[39m\"\u001b[39m\u001b[39mignore\u001b[39m\u001b[39m\"\u001b[39m:\n\u001b[0;32m-> 6934\u001b[0m         \u001b[39mraise\u001b[39;00m \u001b[39mKeyError\u001b[39;00m(\u001b[39mf\u001b[39m\u001b[39m\"\u001b[39m\u001b[39m{\u001b[39;00m\u001b[39mlist\u001b[39m(labels[mask])\u001b[39m}\u001b[39;00m\u001b[39m not found in axis\u001b[39m\u001b[39m\"\u001b[39m)\n\u001b[1;32m   6935\u001b[0m     indexer \u001b[39m=\u001b[39m indexer[\u001b[39m~\u001b[39mmask]\n\u001b[1;32m   6936\u001b[0m \u001b[39mreturn\u001b[39;00m \u001b[39mself\u001b[39m\u001b[39m.\u001b[39mdelete(indexer)\n",
      "\u001b[0;31mKeyError\u001b[0m: '[0] not found in axis'"
     ]
    }
   ],
   "source": [
    "#Remove insignificant variables\n",
    "X_new = data.copy()\n",
    "p_values = model.pvalues\n",
    "p_values.drop([0])\n",
    "print(X_new.columns)\n",
    "print(p_values)\n",
    "# X = X_new.drop(X_new.columns[p_values > 0.05], axis=1)"
   ]
  },
  {
   "cell_type": "code",
   "execution_count": null,
   "metadata": {},
   "outputs": [
    {
     "name": "stdout",
     "output_type": "stream",
     "text": [
      "                            OLS Regression Results                            \n",
      "==============================================================================\n",
      "Dep. Variable:                      y   R-squared:                       0.357\n",
      "Model:                            OLS   Adj. R-squared:                  0.343\n",
      "Method:                 Least Squares   F-statistic:                     25.27\n",
      "Date:                Fri, 27 Jan 2023   Prob (F-statistic):           2.25e-27\n",
      "Time:                        13:05:04   Log-Likelihood:                -390.49\n",
      "No. Observations:                 326   AIC:                             797.0\n",
      "Df Residuals:                     318   BIC:                             827.3\n",
      "Df Model:                           7                                         \n",
      "Covariance Type:            nonrobust                                         \n",
      "=========================================================================================\n",
      "                            coef    std err          t      P>|t|      [0.025      0.975]\n",
      "-----------------------------------------------------------------------------------------\n",
      "const                    -0.8028      0.169     -4.745      0.000      -1.136      -0.470\n",
      "nodes                     0.0006      0.003      0.240      0.811      -0.005       0.006\n",
      "intersection_count       -0.0288      0.004     -6.735      0.000      -0.037      -0.020\n",
      "street_segments_count     0.0173      0.003      6.133      0.000       0.012       0.023\n",
      "bus_stops                -0.0268      0.018     -1.451      0.148      -0.063       0.010\n",
      "dem_mean                 -0.0104      0.004     -2.644      0.009      -0.018      -0.003\n",
      "lst_std                   0.3202      0.081      3.961      0.000       0.161       0.479\n",
      "pop_mean                  0.0315      0.006      5.534      0.000       0.020       0.043\n",
      "==============================================================================\n",
      "Omnibus:                      104.122   Durbin-Watson:                   0.764\n",
      "Prob(Omnibus):                  0.000   Jarque-Bera (JB):              272.549\n",
      "Skew:                           1.514   Prob(JB):                     6.56e-60\n",
      "Kurtosis:                       6.302   Cond. No.                     3.86e+03\n",
      "==============================================================================\n",
      "\n",
      "Notes:\n",
      "[1] Standard Errors assume that the covariance matrix of the errors is correctly specified.\n",
      "[2] The condition number is large, 3.86e+03. This might indicate that there are\n",
      "strong multicollinearity or other numerical problems.\n"
     ]
    }
   ],
   "source": [
    "X = sm.add_constant(X)\n",
    "\n",
    "model = sm.OLS(y, X).fit()\n",
    "\n",
    "print(model.summary())"
   ]
  },
  {
   "cell_type": "code",
   "execution_count": null,
   "metadata": {},
   "outputs": [
    {
     "name": "stdout",
     "output_type": "stream",
     "text": [
      "          VIF               features\n",
      "0   14.165739                  const\n",
      "1  173.430510                  nodes\n",
      "2  350.192179     intersection_count\n",
      "3  424.134908  street_segments_count\n",
      "4    1.160794              bus_stops\n",
      "5    1.071523               dem_mean\n",
      "6    1.021306                lst_std\n",
      "7    1.697417               pop_mean\n"
     ]
    }
   ],
   "source": [
    "#Check multicolinearity with VIF\n",
    "vif = pd.DataFrame()\n",
    "vif[\"VIF\"] = [variance_inflation_factor(X.values, i) for i in range(X.shape[1])]\n",
    "vif[\"features\"] = X.columns\n",
    "\n",
    "print(vif)"
   ]
  },
  {
   "attachments": {},
   "cell_type": "markdown",
   "metadata": {},
   "source": [
    "# USA"
   ]
  },
  {
   "cell_type": "code",
   "execution_count": null,
   "metadata": {},
   "outputs": [],
   "source": [
    "#Import csv and remove non-numerical variables\n",
    "df = pd.read_csv('weekly_counts_stats.csv')\n",
    "df = df.drop(['city', 'name', 'year', 'week', 'latitude', 'longitude'] , axis=1)\n",
    "\n",
    "#Select country and drop column\n",
    "country = df[df['country'] == 'USA']\n",
    "country = country.drop('country', axis=1)\n",
    "\n",
    "#Count variable as stratify\n",
    "target = country.loc[:,'counts_week']\n",
    "data = country.drop('counts_week', axis=1)\n",
    "\n",
    "#Normalize counter data\n",
    "scaler = StandardScaler()\n",
    "target = target.to_numpy().reshape(-1, 1)\n",
    "y = scaler.fit_transform(target)\n"
   ]
  },
  {
   "cell_type": "code",
   "execution_count": null,
   "metadata": {},
   "outputs": [
    {
     "name": "stdout",
     "output_type": "stream",
     "text": [
      "                            OLS Regression Results                            \n",
      "==============================================================================\n",
      "Dep. Variable:                      y   R-squared:                       0.570\n",
      "Model:                            OLS   Adj. R-squared:                  0.514\n",
      "Method:                 Least Squares   F-statistic:                     10.19\n",
      "Date:                Fri, 27 Jan 2023   Prob (F-statistic):           6.39e-29\n",
      "Time:                        13:05:04   Log-Likelihood:                -269.05\n",
      "No. Observations:                 270   AIC:                             602.1\n",
      "Df Residuals:                     238   BIC:                             717.3\n",
      "Df Model:                          31                                         \n",
      "Covariance Type:            nonrobust                                         \n",
      "=========================================================================================\n",
      "                            coef    std err          t      P>|t|      [0.025      0.975]\n",
      "-----------------------------------------------------------------------------------------\n",
      "const                    30.4893      4.535      6.723      0.000      21.555      39.424\n",
      "nodes                    -0.0011      0.003     -0.398      0.691      -0.007       0.004\n",
      "edges                    -0.0029      0.002     -1.865      0.063      -0.006       0.000\n",
      "k_avg                    -0.4229      0.250     -1.689      0.093      -0.916       0.070\n",
      "intersection_count       -0.0110      0.005     -2.262      0.025      -0.021      -0.001\n",
      "streets_per_node_avg      0.5421      0.501      1.082      0.280      -0.445       1.529\n",
      "edge_length_total       9.82e-05   4.36e-05      2.255      0.025    1.24e-05       0.000\n",
      "edge_length_avg          -0.0278      0.023     -1.191      0.235      -0.074       0.018\n",
      "street_length_total      -0.0001   7.94e-05     -1.792      0.074      -0.000    1.41e-05\n",
      "street_length_avg         0.0222      0.021      1.052      0.294      -0.019       0.064\n",
      "street_segments_count     0.0115      0.004      3.282      0.001       0.005       0.018\n",
      "circuity_avg              0.2946      0.847      0.348      0.728      -1.374       1.963\n",
      "self_loop_proportion     -2.8291      8.369     -0.338      0.736     -19.317      13.658\n",
      "bike_points              -0.0014      0.005     -0.295      0.768      -0.011       0.008\n",
      "bus_stops                 0.0052      0.013      0.393      0.695      -0.021       0.031\n",
      "restaurants               0.0123      0.007      1.765      0.079      -0.001       0.026\n",
      "shop_list                 0.0240      0.039      0.622      0.534      -0.052       0.100\n",
      "cycle_length           3.684e-05   5.33e-05      0.691      0.490   -6.81e-05       0.000\n",
      "dist_to_greenspace        0.0008      0.001      1.311      0.191      -0.000       0.002\n",
      "dist_to_bike             -0.0011      0.001     -1.738      0.084      -0.002       0.000\n",
      "build_area            -1.212e-06   1.14e-06     -1.060      0.290   -3.46e-06    1.04e-06\n",
      "ndvi_mean                -0.9304      0.458     -2.030      0.043      -1.833      -0.028\n",
      "ndvi_std                 -0.3922      1.062     -0.370      0.712      -2.483       1.699\n",
      "dem_mean                 -0.0003      0.000     -2.656      0.008      -0.001   -8.28e-05\n",
      "dem_std                  -0.0121      0.013     -0.959      0.338      -0.037       0.013\n",
      "lst_mean                 -0.1017      0.013     -7.534      0.000      -0.128      -0.075\n",
      "lst_std                   0.0400      0.083      0.482      0.630      -0.123       0.203\n",
      "pop_mean                 -0.0012      0.002     -0.526      0.599      -0.006       0.003\n",
      "pop_std                   0.0022      0.002      0.995      0.321      -0.002       0.006\n",
      "landuse_entropy           0.3183      0.588      0.542      0.589      -0.839       1.476\n",
      "3_way_int_count           0.0098      0.007      1.401      0.163      -0.004       0.024\n",
      "4_way_int_count          -0.0083      0.010     -0.819      0.414      -0.028       0.012\n",
      "==============================================================================\n",
      "Omnibus:                      100.109   Durbin-Watson:                   1.179\n",
      "Prob(Omnibus):                  0.000   Jarque-Bera (JB):             1495.371\n",
      "Skew:                           1.037   Prob(JB):                         0.00\n",
      "Kurtosis:                      14.341   Cond. No.                     2.62e+07\n",
      "==============================================================================\n",
      "\n",
      "Notes:\n",
      "[1] Standard Errors assume that the covariance matrix of the errors is correctly specified.\n",
      "[2] The condition number is large, 2.62e+07. This might indicate that there are\n",
      "strong multicollinearity or other numerical problems.\n"
     ]
    }
   ],
   "source": [
    "X = sm.add_constant(data)\n",
    "\n",
    "model = sm.OLS(y, X).fit()\n",
    "\n",
    "print(model.summary())"
   ]
  },
  {
   "cell_type": "code",
   "execution_count": null,
   "metadata": {},
   "outputs": [],
   "source": [
    "#Remove insignificant variables\n",
    "X_new = country.copy()\n",
    "p_values = model.pvalues\n",
    "p_values.drop('const')\n",
    "X = X_new.drop(X_new.columns[p_values > 0.05], axis=1)"
   ]
  },
  {
   "cell_type": "code",
   "execution_count": null,
   "metadata": {},
   "outputs": [
    {
     "name": "stdout",
     "output_type": "stream",
     "text": [
      "                            OLS Regression Results                            \n",
      "==============================================================================\n",
      "Dep. Variable:                      y   R-squared:                       1.000\n",
      "Model:                            OLS   Adj. R-squared:                  1.000\n",
      "Method:                 Least Squares   F-statistic:                 2.685e+30\n",
      "Date:                Fri, 27 Jan 2023   Prob (F-statistic):               0.00\n",
      "Time:                        13:05:04   Log-Likelihood:                 8586.7\n",
      "No. Observations:                 270   AIC:                        -1.716e+04\n",
      "Df Residuals:                     262   BIC:                        -1.713e+04\n",
      "Df Model:                           7                                         \n",
      "Covariance Type:            nonrobust                                         \n",
      "=========================================================================================\n",
      "                            coef    std err          t      P>|t|      [0.025      0.975]\n",
      "-----------------------------------------------------------------------------------------\n",
      "const                    -0.4521   2.11e-14  -2.14e+13      0.000      -0.452      -0.452\n",
      "counts_week               0.0001   4.46e-20      3e+15      0.000       0.000       0.000\n",
      "intersection_count    -3.529e-19   1.92e-17     -0.018      0.985   -3.82e-17    3.75e-17\n",
      "edge_length_total     -2.698e-20   3.72e-20     -0.725      0.469      -1e-19    4.63e-20\n",
      "street_segments_count   7.82e-20   1.05e-17      0.007      0.994   -2.06e-17    2.08e-17\n",
      "ndvi_mean               1.92e-16   1.68e-15      0.114      0.909   -3.12e-15    3.51e-15\n",
      "dem_mean              -2.894e-19   5.38e-19     -0.538      0.591   -1.35e-18    7.69e-19\n",
      "lst_mean              -1.707e-18    7.1e-17     -0.024      0.981   -1.42e-16    1.38e-16\n",
      "==============================================================================\n",
      "Omnibus:                      241.079   Durbin-Watson:                   0.357\n",
      "Prob(Omnibus):                  0.000   Jarque-Bera (JB):             3807.078\n",
      "Skew:                          -3.730   Prob(JB):                         0.00\n",
      "Kurtosis:                      19.815   Cond. No.                     5.28e+06\n",
      "==============================================================================\n",
      "\n",
      "Notes:\n",
      "[1] Standard Errors assume that the covariance matrix of the errors is correctly specified.\n",
      "[2] The condition number is large, 5.28e+06. This might indicate that there are\n",
      "strong multicollinearity or other numerical problems.\n"
     ]
    }
   ],
   "source": [
    "X = sm.add_constant(X)\n",
    "\n",
    "model = sm.OLS(y, X).fit()\n",
    "\n",
    "print(model.summary())"
   ]
  },
  {
   "cell_type": "code",
   "execution_count": null,
   "metadata": {},
   "outputs": [
    {
     "name": "stdout",
     "output_type": "stream",
     "text": [
      "           VIF               features\n",
      "0  8380.202108                  const\n",
      "1     2.092042            counts_week\n",
      "2   952.580164     intersection_count\n",
      "3    21.639581      edge_length_total\n",
      "4   897.561653  street_segments_count\n",
      "5     1.388811              ndvi_mean\n",
      "6     1.247491               dem_mean\n",
      "7     1.952351               lst_mean\n"
     ]
    }
   ],
   "source": [
    "#Check multicolinearity with VIF\n",
    "vif = pd.DataFrame()\n",
    "vif[\"VIF\"] = [variance_inflation_factor(X.values, i) for i in range(X.shape[1])]\n",
    "vif[\"features\"] = X.columns\n",
    "\n",
    "print(vif)"
   ]
  },
  {
   "attachments": {},
   "cell_type": "markdown",
   "metadata": {},
   "source": [
    "# UK"
   ]
  },
  {
   "cell_type": "code",
   "execution_count": null,
   "metadata": {},
   "outputs": [],
   "source": [
    "#Import csv and remove non-numerical variables\n",
    "df = pd.read_csv('weekly_counts_stats.csv')\n",
    "df = df.drop(['city', 'name', 'year', 'week', 'latitude', 'longitude'] , axis=1)\n",
    "\n",
    "#Select country and drop column\n",
    "country = df[(df['country'] == 'UK') | (df['country'] == 'UK (Scotland)')]\n",
    "country = country.drop('country', axis=1)\n",
    "\n",
    "#Count variable as stratify\n",
    "target = country.loc[:,'counts_week']\n",
    "data = country.drop('counts_week', axis=1)\n",
    "\n",
    "#Normalize counter data\n",
    "scaler = StandardScaler()\n",
    "target = target.to_numpy().reshape(-1, 1)\n",
    "y = scaler.fit_transform(target)"
   ]
  },
  {
   "cell_type": "code",
   "execution_count": null,
   "metadata": {},
   "outputs": [
    {
     "name": "stdout",
     "output_type": "stream",
     "text": [
      "                            OLS Regression Results                            \n",
      "==============================================================================\n",
      "Dep. Variable:                      y   R-squared:                       0.264\n",
      "Model:                            OLS   Adj. R-squared:                  0.184\n",
      "Method:                 Least Squares   F-statistic:                     3.294\n",
      "Date:                Fri, 27 Jan 2023   Prob (F-statistic):           6.79e-08\n",
      "Time:                        13:05:05   Log-Likelihood:                -401.27\n",
      "No. Observations:                 317   AIC:                             866.5\n",
      "Df Residuals:                     285   BIC:                             986.8\n",
      "Df Model:                          31                                         \n",
      "Covariance Type:            nonrobust                                         \n",
      "=========================================================================================\n",
      "                            coef    std err          t      P>|t|      [0.025      0.975]\n",
      "-----------------------------------------------------------------------------------------\n",
      "const                    -0.2645      5.814     -0.046      0.964     -11.708      11.179\n",
      "nodes                    -0.0055      0.006     -0.931      0.353      -0.017       0.006\n",
      "edges                     0.0005      0.004      0.138      0.891      -0.007       0.008\n",
      "k_avg                    -0.1848      0.620     -0.298      0.766      -1.405       1.035\n",
      "intersection_count        0.0035      0.008      0.417      0.677      -0.013       0.020\n",
      "streets_per_node_avg     -0.2602      0.937     -0.278      0.782      -2.105       1.585\n",
      "edge_length_total     -1.516e-05   9.39e-05     -0.161      0.872      -0.000       0.000\n",
      "edge_length_avg          -0.0192      0.092     -0.210      0.834      -0.199       0.161\n",
      "street_length_total    3.169e-05      0.000      0.190      0.850      -0.000       0.000\n",
      "street_length_avg         0.0176      0.090      0.196      0.845      -0.159       0.194\n",
      "street_segments_count     0.0012      0.007      0.159      0.874      -0.013       0.016\n",
      "circuity_avg             -0.9129      2.994     -0.305      0.761      -6.805       4.980\n",
      "self_loop_proportion      6.3219     18.402      0.344      0.731     -29.899      42.543\n",
      "bike_points               0.0186      0.011      1.723      0.086      -0.003       0.040\n",
      "bus_stops                -0.0215      0.018     -1.206      0.229      -0.057       0.014\n",
      "restaurants               0.0061      0.012      0.511      0.610      -0.017       0.030\n",
      "shop_list                 0.0272      0.045      0.610      0.542      -0.061       0.115\n",
      "cycle_length              0.0001   8.62e-05      1.332      0.184   -5.49e-05       0.000\n",
      "dist_to_greenspace        0.0012      0.001      1.771      0.078      -0.000       0.002\n",
      "dist_to_bike              0.0002      0.001      0.266      0.791      -0.001       0.001\n",
      "build_area            -1.938e-07   1.14e-06     -0.170      0.865   -2.44e-06    2.05e-06\n",
      "ndvi_mean                -0.4074      0.692     -0.588      0.557      -1.770       0.956\n",
      "ndvi_std                  3.1303      1.714      1.826      0.069      -0.243       6.504\n",
      "dem_mean                 -0.0035      0.002     -1.942      0.053      -0.007    4.75e-05\n",
      "dem_std                  -0.0075      0.030     -0.252      0.801      -0.066       0.051\n",
      "lst_mean                  0.0057      0.013      0.437      0.662      -0.020       0.031\n",
      "lst_std                   0.1127      0.226      0.498      0.619      -0.332       0.558\n",
      "pop_mean                  0.0081      0.004      2.066      0.040       0.000       0.016\n",
      "pop_std                  -0.0047      0.004     -1.076      0.283      -0.013       0.004\n",
      "landuse_entropy           0.7149      0.621      1.151      0.251      -0.508       1.938\n",
      "3_way_int_count          -0.0173      0.010     -1.662      0.098      -0.038       0.003\n",
      "4_way_int_count           0.0313      0.030      1.043      0.298      -0.028       0.090\n",
      "==============================================================================\n",
      "Omnibus:                      567.899   Durbin-Watson:                   1.579\n",
      "Prob(Omnibus):                  0.000   Jarque-Bera (JB):           291069.809\n",
      "Skew:                          10.292   Prob(JB):                         0.00\n",
      "Kurtosis:                     150.014   Cond. No.                     5.00e+07\n",
      "==============================================================================\n",
      "\n",
      "Notes:\n",
      "[1] Standard Errors assume that the covariance matrix of the errors is correctly specified.\n",
      "[2] The condition number is large,  5e+07. This might indicate that there are\n",
      "strong multicollinearity or other numerical problems.\n"
     ]
    }
   ],
   "source": [
    "X = sm.add_constant(data)\n",
    "\n",
    "model = sm.OLS(y, X).fit()\n",
    "\n",
    "print(model.summary())"
   ]
  },
  {
   "cell_type": "code",
   "execution_count": null,
   "metadata": {},
   "outputs": [],
   "source": [
    "#Remove insignificant variables\n",
    "X_new = country.copy()\n",
    "p_values = model.pvalues\n",
    "p_values.drop('const')\n",
    "X = X_new.drop(X_new.columns[p_values > 0.05], axis=1)"
   ]
  },
  {
   "cell_type": "code",
   "execution_count": null,
   "metadata": {},
   "outputs": [
    {
     "name": "stdout",
     "output_type": "stream",
     "text": [
      "                            OLS Regression Results                            \n",
      "==============================================================================\n",
      "Dep. Variable:                      y   R-squared:                       0.090\n",
      "Model:                            OLS   Adj. R-squared:                  0.087\n",
      "Method:                 Least Squares   F-statistic:                     31.01\n",
      "Date:                Fri, 27 Jan 2023   Prob (F-statistic):           5.50e-08\n",
      "Time:                        13:05:05   Log-Likelihood:                -434.92\n",
      "No. Observations:                 317   AIC:                             873.8\n",
      "Df Residuals:                     315   BIC:                             881.4\n",
      "Df Model:                           1                                         \n",
      "Covariance Type:            nonrobust                                         \n",
      "==============================================================================\n",
      "                 coef    std err          t      P>|t|      [0.025      0.975]\n",
      "------------------------------------------------------------------------------\n",
      "const         -0.2979      0.076     -3.928      0.000      -0.447      -0.149\n",
      "pop_mean       0.0101      0.002      5.569      0.000       0.007       0.014\n",
      "==============================================================================\n",
      "Omnibus:                      549.833   Durbin-Watson:                   1.297\n",
      "Prob(Omnibus):                  0.000   Jarque-Bera (JB):           224445.078\n",
      "Skew:                           9.722   Prob(JB):                         0.00\n",
      "Kurtosis:                     131.898   Cond. No.                         58.7\n",
      "==============================================================================\n",
      "\n",
      "Notes:\n",
      "[1] Standard Errors assume that the covariance matrix of the errors is correctly specified.\n"
     ]
    }
   ],
   "source": [
    "X = sm.add_constant(X)\n",
    "\n",
    "model = sm.OLS(y, X).fit()\n",
    "\n",
    "print(model.summary())"
   ]
  },
  {
   "cell_type": "code",
   "execution_count": null,
   "metadata": {},
   "outputs": [],
   "source": []
  }
 ],
 "metadata": {
  "kernelspec": {
   "display_name": "ox",
   "language": "python",
   "name": "python3"
  },
  "language_info": {
   "codemirror_mode": {
    "name": "ipython",
    "version": 3
   },
   "file_extension": ".py",
   "mimetype": "text/x-python",
   "name": "python",
   "nbconvert_exporter": "python",
   "pygments_lexer": "ipython3",
   "version": "3.11.0"
  },
  "orig_nbformat": 4,
  "vscode": {
   "interpreter": {
    "hash": "e04e9d70aa0476d320a89e4247bc687a844ab51af6dd849df37511de572e0dcf"
   }
  }
 },
 "nbformat": 4,
 "nbformat_minor": 2
}
