{
 "cells": [
  {
   "cell_type": "code",
   "execution_count": 1,
   "metadata": {},
   "outputs": [],
   "source": [
    "import pandas as pd\n",
    "import numpy as np\n",
    "import statsmodels.api as sm\n",
    "from sklearn.linear_model import LinearRegression\n",
    "from sklearn.preprocessing import StandardScaler\n",
    "from sklearn.model_selection import train_test_split\n",
    "from statsmodels.stats.outliers_influence import variance_inflation_factor"
   ]
  },
  {
   "attachments": {},
   "cell_type": "markdown",
   "metadata": {},
   "source": [
    "### TODO\n",
    "- Normalisation\n",
    "- Select the models\n",
    "- Define hyperparameters\n",
    "- Run & Evaluate the models\n",
    "- Partial dependence, VIF, DD-plot, interaction\n",
    "\n",
    "- Explaining the best model"
   ]
  },
  {
   "attachments": {},
   "cell_type": "markdown",
   "metadata": {},
   "source": [
    "# Netherlands"
   ]
  },
  {
   "cell_type": "code",
   "execution_count": 2,
   "metadata": {},
   "outputs": [],
   "source": [
    "#Import csv and remove non-numerical variables\n",
    "df = pd.read_csv('weekly_new.csv')\n",
    "df = df.drop(['city', 'name', 'year', 'week', 'latitude', 'longitude'] , axis=1)\n",
    "\n",
    "#Select country and drop column\n",
    "country = df[df['country'] == 'Netherlands']\n",
    "country = country.drop('country', axis=1)\n",
    "\n",
    "#Count variable as stratify\n",
    "target = country.loc[:,'counts_week']\n",
    "data = country.drop('counts_week', axis=1)\n",
    "\n",
    "#Normalize counter data\n",
    "scaler = StandardScaler()\n",
    "target = target.to_numpy().reshape(-1, 1)\n",
    "y = scaler.fit_transform(target)\n"
   ]
  },
  {
   "cell_type": "code",
   "execution_count": 3,
   "metadata": {},
   "outputs": [
    {
     "name": "stdout",
     "output_type": "stream",
     "text": [
      "                            OLS Regression Results                            \n",
      "==============================================================================\n",
      "Dep. Variable:                      y   R-squared:                       0.418\n",
      "Model:                            OLS   Adj. R-squared:                  0.361\n",
      "Method:                 Least Squares   F-statistic:                     7.402\n",
      "Date:                Tue, 31 Jan 2023   Prob (F-statistic):           1.20e-21\n",
      "Time:                        09:55:37   Log-Likelihood:                -377.82\n",
      "No. Observations:                 329   AIC:                             815.6\n",
      "Df Residuals:                     299   BIC:                             929.5\n",
      "Df Model:                          29                                         \n",
      "Covariance Type:            nonrobust                                         \n",
      "========================================================================================\n",
      "                           coef    std err          t      P>|t|      [0.025      0.975]\n",
      "----------------------------------------------------------------------------------------\n",
      "const                 1.287e+04   8465.096      1.520      0.129   -3788.300    2.95e+04\n",
      "espg                    -0.3924      0.259     -1.513      0.131      -0.903       0.118\n",
      "n                        0.0684      0.027      2.547      0.011       0.016       0.121\n",
      "m                       -0.0176      0.009     -1.906      0.058      -0.036       0.001\n",
      "k_avg                    0.0776      0.161      0.483      0.629      -0.238       0.394\n",
      "edge_length_total     1.113e-05   9.12e-05      0.122      0.903      -0.000       0.000\n",
      "edge_length_avg          0.0006      0.005      0.115      0.909      -0.009       0.011\n",
      "streets_per_node_avg     0.2510      0.238      1.056      0.292      -0.217       0.719\n",
      "intersection_count       0.0558      0.043      1.303      0.194      -0.028       0.140\n",
      "street_length_total   -9.59e-05      0.000     -0.732      0.465      -0.000       0.000\n",
      "street_segment_count    -0.0424      0.024     -1.762      0.079      -0.090       0.005\n",
      "street_length_avg       -0.0001      0.005     -0.024      0.981      -0.010       0.010\n",
      "circuity_avg            -0.8396      0.703     -1.194      0.233      -2.223       0.544\n",
      "3_way_int_count         -0.0276      0.036     -0.760      0.448      -0.099       0.044\n",
      "4_way_int_count          0.0116      0.041      0.280      0.780      -0.070       0.093\n",
      "dist_to_greenspace      -0.0003      0.001     -0.306      0.760      -0.003       0.002\n",
      "dist_to_bikePOI       1.266e-05      0.001      0.011      0.991      -0.002       0.002\n",
      "bike_points              0.0141      0.016      0.885      0.377      -0.017       0.045\n",
      "bus_stops               -0.0288      0.019     -1.519      0.130      -0.066       0.009\n",
      "restaurants              0.0231      0.006      4.050      0.000       0.012       0.034\n",
      "shop_list               -0.0159      0.035     -0.449      0.654      -0.086       0.054\n",
      "cycle_length            -0.0001   8.61e-05     -1.499      0.135      -0.000    4.03e-05\n",
      "ndvi_mean               -1.7398      0.527     -3.304      0.001      -2.776      -0.704\n",
      "ndvi_std                -0.1280      1.401     -0.091      0.927      -2.886       2.630\n",
      "dem_mean                -0.0193      0.005     -4.078      0.000      -0.029      -0.010\n",
      "dem_std                  0.0345      0.043      0.801      0.424      -0.050       0.119\n",
      "lst_mean                -0.2288      0.039     -5.922      0.000      -0.305      -0.153\n",
      "lst_std                  0.2376      0.118      2.014      0.045       0.005       0.470\n",
      "lc_entropy               0.1448      0.536      0.270      0.787      -0.909       1.199\n",
      "pop_sum                  0.0011      0.000      2.982      0.003       0.000       0.002\n",
      "==============================================================================\n",
      "Omnibus:                      210.940   Durbin-Watson:                   1.442\n",
      "Prob(Omnibus):                  0.000   Jarque-Bera (JB):             2981.082\n",
      "Skew:                           2.404   Prob(JB):                         0.00\n",
      "Kurtosis:                      16.941   Cond. No.                     6.51e+09\n",
      "==============================================================================\n",
      "\n",
      "Notes:\n",
      "[1] Standard Errors assume that the covariance matrix of the errors is correctly specified.\n",
      "[2] The condition number is large, 6.51e+09. This might indicate that there are\n",
      "strong multicollinearity or other numerical problems.\n"
     ]
    }
   ],
   "source": [
    "X = sm.add_constant(data)\n",
    "\n",
    "model = sm.OLS(y, X).fit()\n",
    "\n",
    "print(model.summary())"
   ]
  },
  {
   "cell_type": "code",
   "execution_count": 7,
   "metadata": {},
   "outputs": [],
   "source": [
    "#Remove insignificant variables\n",
    "X_new = X.copy()\n",
    "p_values = model.pvalues\n",
    "X = X_new.drop(X_new.columns[p_values > 0.05], axis=1)"
   ]
  },
  {
   "cell_type": "code",
   "execution_count": 8,
   "metadata": {},
   "outputs": [
    {
     "name": "stdout",
     "output_type": "stream",
     "text": [
      "                            OLS Regression Results                            \n",
      "==============================================================================\n",
      "Dep. Variable:                      y   R-squared:                       0.357\n",
      "Model:                            OLS   Adj. R-squared:                  0.343\n",
      "Method:                 Least Squares   F-statistic:                     25.43\n",
      "Date:                Tue, 31 Jan 2023   Prob (F-statistic):           1.38e-27\n",
      "Time:                        10:00:25   Log-Likelihood:                -394.25\n",
      "No. Observations:                 329   AIC:                             804.5\n",
      "Df Residuals:                     321   BIC:                             834.9\n",
      "Df Model:                           7                                         \n",
      "Covariance Type:            nonrobust                                         \n",
      "===============================================================================\n",
      "                  coef    std err          t      P>|t|      [0.025      0.975]\n",
      "-------------------------------------------------------------------------------\n",
      "const          67.5765     10.329      6.542      0.000      47.255      87.898\n",
      "n               0.0001      0.003      0.042      0.966      -0.005       0.006\n",
      "restaurants     0.0279      0.005      5.593      0.000       0.018       0.038\n",
      "ndvi_mean      -1.6322      0.487     -3.352      0.001      -2.590      -0.674\n",
      "dem_mean       -0.0157      0.004     -3.903      0.000      -0.024      -0.008\n",
      "lst_mean       -0.2321      0.035     -6.578      0.000      -0.302      -0.163\n",
      "lst_std         0.2846      0.100      2.852      0.005       0.088       0.481\n",
      "pop_sum         0.0015      0.000      4.912      0.000       0.001       0.002\n",
      "==============================================================================\n",
      "Omnibus:                      215.937   Durbin-Watson:                   1.314\n",
      "Prob(Omnibus):                  0.000   Jarque-Bera (JB):             3022.275\n",
      "Skew:                           2.491   Prob(JB):                         0.00\n",
      "Kurtosis:                      16.988   Cond. No.                     1.20e+05\n",
      "==============================================================================\n",
      "\n",
      "Notes:\n",
      "[1] Standard Errors assume that the covariance matrix of the errors is correctly specified.\n",
      "[2] The condition number is large, 1.2e+05. This might indicate that there are\n",
      "strong multicollinearity or other numerical problems.\n"
     ]
    }
   ],
   "source": [
    "X = sm.add_constant(X)\n",
    "\n",
    "model = sm.OLS(y, X).fit()\n",
    "\n",
    "print(model.summary())"
   ]
  },
  {
   "cell_type": "code",
   "execution_count": 9,
   "metadata": {},
   "outputs": [
    {
     "name": "stdout",
     "output_type": "stream",
     "text": [
      "            VIF     features\n",
      "0  53242.067126        const\n",
      "1      1.816429            n\n",
      "2      1.222810  restaurants\n",
      "3      2.021618    ndvi_mean\n",
      "4      1.120552     dem_mean\n",
      "5      1.498496     lst_mean\n",
      "6      1.253108      lst_std\n",
      "7      1.881523      pop_sum\n"
     ]
    }
   ],
   "source": [
    "#Check multicolinearity with VIF\n",
    "vif = pd.DataFrame()\n",
    "vif[\"VIF\"] = [variance_inflation_factor(X.values, i) for i in range(X.shape[1])]\n",
    "vif[\"features\"] = X.columns\n",
    "\n",
    "print(vif)"
   ]
  },
  {
   "attachments": {},
   "cell_type": "markdown",
   "metadata": {},
   "source": [
    "# USA"
   ]
  },
  {
   "cell_type": "code",
   "execution_count": 13,
   "metadata": {},
   "outputs": [],
   "source": [
    "#Import csv and remove non-numerical variables\n",
    "df = pd.read_csv('weekly_new.csv')\n",
    "df = df.drop(['city', 'name', 'year', 'week', 'latitude', 'longitude'] , axis=1)\n",
    "\n",
    "#Select country and drop column\n",
    "country = df[df['country'] == 'USA']\n",
    "country = country.drop('country', axis=1)\n",
    "\n",
    "#Count variable as stratify\n",
    "target = country.loc[:,'counts_week']\n",
    "data = country.drop('counts_week', axis=1)\n",
    "\n",
    "#Normalize counter data\n",
    "scaler = StandardScaler()\n",
    "target = target.to_numpy().reshape(-1, 1)\n",
    "y = scaler.fit_transform(target)\n"
   ]
  },
  {
   "cell_type": "code",
   "execution_count": 14,
   "metadata": {},
   "outputs": [
    {
     "name": "stdout",
     "output_type": "stream",
     "text": [
      "                            OLS Regression Results                            \n",
      "==============================================================================\n",
      "Dep. Variable:                      y   R-squared:                       0.454\n",
      "Model:                            OLS   Adj. R-squared:                  0.389\n",
      "Method:                 Least Squares   F-statistic:                     6.895\n",
      "Date:                Tue, 31 Jan 2023   Prob (F-statistic):           7.98e-19\n",
      "Time:                        10:02:01   Log-Likelihood:                -301.30\n",
      "No. Observations:                 270   AIC:                             662.6\n",
      "Df Residuals:                     240   BIC:                             770.6\n",
      "Df Model:                          29                                         \n",
      "Covariance Type:            nonrobust                                         \n",
      "========================================================================================\n",
      "                           coef    std err          t      P>|t|      [0.025      0.975]\n",
      "----------------------------------------------------------------------------------------\n",
      "const                 1094.1769    808.607      1.353      0.177    -498.696    2687.050\n",
      "espg                    -0.0328      0.025     -1.326      0.186      -0.082       0.016\n",
      "n                        0.0149      0.036      0.413      0.680      -0.056       0.086\n",
      "m                        0.0071      0.011      0.657      0.512      -0.014       0.028\n",
      "k_avg                    0.2545      0.167      1.520      0.130      -0.075       0.584\n",
      "edge_length_total       -0.0003      0.000     -2.149      0.033      -0.000   -2.14e-05\n",
      "edge_length_avg          0.0102      0.005      1.850      0.066      -0.001       0.021\n",
      "streets_per_node_avg    -0.1582      0.264     -0.600      0.549      -0.678       0.361\n",
      "intersection_count      -0.0707      0.074     -0.961      0.337      -0.216       0.074\n",
      "street_length_total      0.0004      0.000      2.968      0.003       0.000       0.001\n",
      "street_segment_count     0.0037      0.029      0.128      0.898      -0.053       0.061\n",
      "street_length_avg       -0.0110      0.005     -2.066      0.040      -0.021      -0.001\n",
      "circuity_avg             0.0108      0.890      0.012      0.990      -1.742       1.763\n",
      "3_way_int_count          0.0263      0.056      0.466      0.641      -0.085       0.137\n",
      "4_way_int_count          0.0109      0.054      0.201      0.841      -0.096       0.118\n",
      "dist_to_greenspace      -0.0001      0.001     -0.168      0.866      -0.001       0.001\n",
      "dist_to_bikePOI       4.545e-05      0.001      0.069      0.945      -0.001       0.001\n",
      "bike_points             -0.0035      0.006     -0.633      0.527      -0.014       0.007\n",
      "bus_stops                0.0026      0.016      0.158      0.874      -0.030       0.035\n",
      "restaurants              0.0157      0.009      1.793      0.074      -0.002       0.033\n",
      "shop_list                0.1531      0.058      2.618      0.009       0.038       0.268\n",
      "cycle_length             0.0001   9.47e-05      1.059      0.291   -8.62e-05       0.000\n",
      "ndvi_mean               -0.8965      0.468     -1.916      0.057      -1.818       0.025\n",
      "ndvi_std                -1.0783      1.072     -1.006      0.316      -3.190       1.034\n",
      "dem_mean                -0.0002      0.000     -1.638      0.103      -0.000    4.17e-05\n",
      "dem_std                 -0.0128      0.014     -0.927      0.355      -0.040       0.014\n",
      "lst_mean                -0.0855      0.018     -4.635      0.000      -0.122      -0.049\n",
      "lst_std                 -0.0648      0.114     -0.570      0.569      -0.288       0.159\n",
      "lc_entropy               1.4226      0.514      2.768      0.006       0.410       2.435\n",
      "pop_sum                  0.0002   7.26e-05      2.339      0.020    2.68e-05       0.000\n",
      "==============================================================================\n",
      "Omnibus:                      141.101   Durbin-Watson:                   1.921\n",
      "Prob(Omnibus):                  0.000   Jarque-Bera (JB):             2234.731\n",
      "Skew:                           1.687   Prob(JB):                         0.00\n",
      "Kurtosis:                      16.684   Cond. No.                     5.77e+08\n",
      "==============================================================================\n",
      "\n",
      "Notes:\n",
      "[1] Standard Errors assume that the covariance matrix of the errors is correctly specified.\n",
      "[2] The condition number is large, 5.77e+08. This might indicate that there are\n",
      "strong multicollinearity or other numerical problems.\n"
     ]
    }
   ],
   "source": [
    "X = sm.add_constant(data)\n",
    "\n",
    "model = sm.OLS(y, X).fit()\n",
    "\n",
    "print(model.summary())"
   ]
  },
  {
   "cell_type": "code",
   "execution_count": 15,
   "metadata": {},
   "outputs": [],
   "source": [
    "#Remove insignificant variables\n",
    "X_new = X.copy()\n",
    "p_values = model.pvalues\n",
    "p_values.drop('const')\n",
    "X = X_new.drop(X_new.columns[p_values > 0.05], axis=1)"
   ]
  },
  {
   "cell_type": "code",
   "execution_count": 16,
   "metadata": {},
   "outputs": [
    {
     "name": "stdout",
     "output_type": "stream",
     "text": [
      "                            OLS Regression Results                            \n",
      "==============================================================================\n",
      "Dep. Variable:                      y   R-squared:                       0.390\n",
      "Model:                            OLS   Adj. R-squared:                  0.374\n",
      "Method:                 Least Squares   F-statistic:                     23.95\n",
      "Date:                Tue, 31 Jan 2023   Prob (F-statistic):           4.33e-25\n",
      "Time:                        10:02:31   Log-Likelihood:                -316.34\n",
      "No. Observations:                 270   AIC:                             648.7\n",
      "Df Residuals:                     262   BIC:                             677.5\n",
      "Df Model:                           7                                         \n",
      "Covariance Type:            nonrobust                                         \n",
      "=======================================================================================\n",
      "                          coef    std err          t      P>|t|      [0.025      0.975]\n",
      "---------------------------------------------------------------------------------------\n",
      "const                  22.4162      4.462      5.024      0.000      13.631      31.201\n",
      "edge_length_total    -9.07e-05   2.99e-05     -3.033      0.003      -0.000   -3.18e-05\n",
      "street_length_total     0.0001   3.93e-05      3.705      0.000    6.83e-05       0.000\n",
      "street_length_avg      -0.0002      0.001     -0.418      0.676      -0.001       0.001\n",
      "shop_list               0.2626      0.048      5.445      0.000       0.168       0.358\n",
      "lst_mean               -0.0809      0.015     -5.385      0.000      -0.110      -0.051\n",
      "lc_entropy              1.5179      0.428      3.545      0.000       0.675       2.361\n",
      "pop_sum                 0.0002   6.61e-05      2.374      0.018    2.68e-05       0.000\n",
      "==============================================================================\n",
      "Omnibus:                      148.916   Durbin-Watson:                   1.688\n",
      "Prob(Omnibus):                  0.000   Jarque-Bera (JB):             1980.940\n",
      "Skew:                           1.888   Prob(JB):                         0.00\n",
      "Kurtosis:                      15.721   Cond. No.                     9.82e+05\n",
      "==============================================================================\n",
      "\n",
      "Notes:\n",
      "[1] Standard Errors assume that the covariance matrix of the errors is correctly specified.\n",
      "[2] The condition number is large, 9.82e+05. This might indicate that there are\n",
      "strong multicollinearity or other numerical problems.\n"
     ]
    }
   ],
   "source": [
    "X = sm.add_constant(X)\n",
    "\n",
    "model = sm.OLS(y, X).fit()\n",
    "\n",
    "print(model.summary())"
   ]
  },
  {
   "cell_type": "code",
   "execution_count": 17,
   "metadata": {},
   "outputs": [
    {
     "name": "stdout",
     "output_type": "stream",
     "text": [
      "           VIF             features\n",
      "0  8552.781778                const\n",
      "1     4.822125    edge_length_total\n",
      "2     5.328666  street_length_total\n",
      "3     1.128260    street_length_avg\n",
      "4     1.554083            shop_list\n",
      "5     1.058610             lst_mean\n",
      "6     1.092535           lc_entropy\n",
      "7     1.617918              pop_sum\n"
     ]
    }
   ],
   "source": [
    "#Check multicolinearity with VIF\n",
    "vif = pd.DataFrame()\n",
    "vif[\"VIF\"] = [variance_inflation_factor(X.values, i) for i in range(X.shape[1])]\n",
    "vif[\"features\"] = X.columns\n",
    "\n",
    "print(vif)"
   ]
  },
  {
   "attachments": {},
   "cell_type": "markdown",
   "metadata": {},
   "source": [
    "# UK"
   ]
  },
  {
   "cell_type": "code",
   "execution_count": 18,
   "metadata": {},
   "outputs": [],
   "source": [
    "#Import csv and remove non-numerical variables\n",
    "df = pd.read_csv('weekly_new.csv')\n",
    "df = df.drop(['city', 'name', 'year', 'week', 'latitude', 'longitude'] , axis=1)\n",
    "\n",
    "#Select country and drop column\n",
    "country = df[(df['country'] == 'UK') | (df['country'] == 'UK (Scotland)')]\n",
    "country = country.drop('country', axis=1)\n",
    "\n",
    "#Count variable as stratify\n",
    "target = country.loc[:,'counts_week']\n",
    "data = country.drop('counts_week', axis=1)\n",
    "\n",
    "#Normalize counter data\n",
    "scaler = StandardScaler()\n",
    "target = target.to_numpy().reshape(-1, 1)\n",
    "y = scaler.fit_transform(target)"
   ]
  },
  {
   "cell_type": "code",
   "execution_count": 19,
   "metadata": {},
   "outputs": [
    {
     "name": "stdout",
     "output_type": "stream",
     "text": [
      "                            OLS Regression Results                            \n",
      "==============================================================================\n",
      "Dep. Variable:                      y   R-squared:                       0.269\n",
      "Model:                            OLS   Adj. R-squared:                  0.195\n",
      "Method:                 Least Squares   F-statistic:                     3.633\n",
      "Date:                Tue, 31 Jan 2023   Prob (F-statistic):           9.30e-09\n",
      "Time:                        10:03:20   Log-Likelihood:                -400.24\n",
      "No. Observations:                 317   AIC:                             860.5\n",
      "Df Residuals:                     287   BIC:                             973.2\n",
      "Df Model:                          29                                         \n",
      "Covariance Type:            nonrobust                                         \n",
      "========================================================================================\n",
      "                           coef    std err          t      P>|t|      [0.025      0.975]\n",
      "----------------------------------------------------------------------------------------\n",
      "const                 1.419e+04   8563.451      1.657      0.099   -2663.009     3.1e+04\n",
      "espg                    -0.4353      0.262     -1.658      0.098      -0.952       0.081\n",
      "n                        0.0232      0.027      0.873      0.384      -0.029       0.075\n",
      "m                       -0.0019      0.015     -0.130      0.897      -0.031       0.027\n",
      "k_avg                   -0.0432      0.215     -0.201      0.841      -0.466       0.379\n",
      "edge_length_total        0.0001      0.000      0.869      0.386      -0.000       0.000\n",
      "edge_length_avg          0.0011      0.009      0.130      0.897      -0.016       0.018\n",
      "streets_per_node_avg     0.1568      0.306      0.513      0.609      -0.445       0.759\n",
      "intersection_count       0.0269      0.069      0.389      0.698      -0.109       0.163\n",
      "street_length_total     -0.0002      0.000     -0.775      0.439      -0.001       0.000\n",
      "street_segment_count    -0.0299      0.035     -0.847      0.397      -0.099       0.040\n",
      "street_length_avg       -0.0014      0.008     -0.172      0.863      -0.018       0.015\n",
      "circuity_avg            -0.3617      0.704     -0.514      0.608      -1.747       1.024\n",
      "3_way_int_count         -0.0183      0.061     -0.298      0.766      -0.139       0.103\n",
      "4_way_int_count          0.0318      0.065      0.491      0.624      -0.096       0.159\n",
      "dist_to_greenspace      -0.0014      0.001     -1.963      0.051      -0.003    3.42e-06\n",
      "dist_to_bikePOI          0.0004      0.001      0.524      0.600      -0.001       0.002\n",
      "bike_points              0.0227      0.008      2.777      0.006       0.007       0.039\n",
      "bus_stops               -0.0097      0.017     -0.590      0.556      -0.042       0.023\n",
      "restaurants              0.0059      0.008      0.697      0.487      -0.011       0.022\n",
      "shop_list               -0.0318      0.039     -0.825      0.410      -0.108       0.044\n",
      "cycle_length             0.0003      0.000      2.509      0.013    5.72e-05       0.000\n",
      "ndvi_mean               -0.1651      0.579     -0.285      0.776      -1.305       0.975\n",
      "ndvi_std                 1.8985      1.728      1.099      0.273      -1.502       5.299\n",
      "dem_mean                -0.0045      0.002     -2.901      0.004      -0.008      -0.001\n",
      "dem_std                 -0.0033      0.025     -0.128      0.898      -0.053       0.047\n",
      "lst_mean                 0.0417      0.019      2.181      0.030       0.004       0.079\n",
      "lst_std                  0.1201      0.220      0.546      0.586      -0.313       0.553\n",
      "lc_entropy               0.2698      0.571      0.473      0.637      -0.854       1.393\n",
      "pop_sum                  0.0002      0.000      0.932      0.352      -0.000       0.001\n",
      "==============================================================================\n",
      "Omnibus:                      582.327   Durbin-Watson:                   2.031\n",
      "Prob(Omnibus):                  0.000   Jarque-Bera (JB):           334528.119\n",
      "Skew:                          10.809   Prob(JB):                         0.00\n",
      "Kurtosis:                     160.670   Cond. No.                     5.72e+09\n",
      "==============================================================================\n",
      "\n",
      "Notes:\n",
      "[1] Standard Errors assume that the covariance matrix of the errors is correctly specified.\n",
      "[2] The condition number is large, 5.72e+09. This might indicate that there are\n",
      "strong multicollinearity or other numerical problems.\n"
     ]
    }
   ],
   "source": [
    "X = sm.add_constant(data)\n",
    "model = sm.OLS(y, X).fit()\n",
    "print(model.summary())"
   ]
  },
  {
   "cell_type": "code",
   "execution_count": 20,
   "metadata": {},
   "outputs": [],
   "source": [
    "#Remove insignificant variables\n",
    "X_new = X.copy()\n",
    "p_values = model.pvalues\n",
    "p_values.drop('const')\n",
    "X = X_new.drop(X_new.columns[p_values > 0.05], axis=1)"
   ]
  },
  {
   "cell_type": "code",
   "execution_count": 21,
   "metadata": {},
   "outputs": [
    {
     "name": "stdout",
     "output_type": "stream",
     "text": [
      "                            OLS Regression Results                            \n",
      "==============================================================================\n",
      "Dep. Variable:                      y   R-squared:                       0.201\n",
      "Model:                            OLS   Adj. R-squared:                  0.191\n",
      "Method:                 Least Squares   F-statistic:                     19.60\n",
      "Date:                Tue, 31 Jan 2023   Prob (F-statistic):           2.10e-14\n",
      "Time:                        10:03:40   Log-Likelihood:                -414.27\n",
      "No. Observations:                 317   AIC:                             838.5\n",
      "Df Residuals:                     312   BIC:                             857.3\n",
      "Df Model:                           4                                         \n",
      "Covariance Type:            nonrobust                                         \n",
      "================================================================================\n",
      "                   coef    std err          t      P>|t|      [0.025      0.975]\n",
      "--------------------------------------------------------------------------------\n",
      "const           -9.3956      3.951     -2.378      0.018     -17.170      -1.621\n",
      "bike_points      0.0314      0.005      5.837      0.000       0.021       0.042\n",
      "cycle_length     0.0002   9.61e-05      2.090      0.037    1.17e-05       0.000\n",
      "dem_mean        -0.0037      0.001     -2.858      0.005      -0.006      -0.001\n",
      "lst_mean         0.0323      0.014      2.316      0.021       0.005       0.060\n",
      "==============================================================================\n",
      "Omnibus:                      579.687   Durbin-Watson:                   1.951\n",
      "Prob(Omnibus):                  0.000   Jarque-Bera (JB):           318084.141\n",
      "Skew:                          10.728   Prob(JB):                         0.00\n",
      "Kurtosis:                     156.693   Cond. No.                     7.54e+04\n",
      "==============================================================================\n",
      "\n",
      "Notes:\n",
      "[1] Standard Errors assume that the covariance matrix of the errors is correctly specified.\n",
      "[2] The condition number is large, 7.54e+04. This might indicate that there are\n",
      "strong multicollinearity or other numerical problems.\n"
     ]
    }
   ],
   "source": [
    "X = sm.add_constant(X)\n",
    "\n",
    "model = sm.OLS(y, X).fit()\n",
    "\n",
    "print(model.summary())"
   ]
  },
  {
   "cell_type": "code",
   "execution_count": 22,
   "metadata": {},
   "outputs": [
    {
     "name": "stdout",
     "output_type": "stream",
     "text": [
      "           VIF      features\n",
      "0  6094.867350         const\n",
      "1     1.221802   bike_points\n",
      "2     1.049142  cycle_length\n",
      "3     1.286355      dem_mean\n",
      "4     1.361484      lst_mean\n"
     ]
    }
   ],
   "source": [
    "#Check multicolinearity with VIF\n",
    "vif = pd.DataFrame()\n",
    "vif[\"VIF\"] = [variance_inflation_factor(X.values, i) for i in range(X.shape[1])]\n",
    "vif[\"features\"] = X.columns\n",
    "\n",
    "print(vif)"
   ]
  },
  {
   "attachments": {},
   "cell_type": "markdown",
   "metadata": {},
   "source": [
    "# OVERALL"
   ]
  },
  {
   "cell_type": "code",
   "execution_count": 36,
   "metadata": {},
   "outputs": [],
   "source": [
    "#Import csv and remove non-numerical variables\n",
    "df = pd.read_csv('weekly_new.csv')\n",
    "df = df.drop(['city', 'name', 'year', 'week', 'latitude', 'longitude', 'espg'] , axis=1)\n",
    "\n",
    "country = df.drop('country', axis=1)\n",
    "\n",
    "#Count variable as stratify\n",
    "target = country.loc[:,'counts_week']\n",
    "data = country.drop('counts_week', axis=1)\n",
    "\n",
    "#Normalize counter data\n",
    "scaler = StandardScaler()\n",
    "target = target.to_numpy().reshape(-1, 1)\n",
    "y = scaler.fit_transform(target)"
   ]
  },
  {
   "cell_type": "code",
   "execution_count": 37,
   "metadata": {},
   "outputs": [
    {
     "name": "stdout",
     "output_type": "stream",
     "text": [
      "                            OLS Regression Results                            \n",
      "==============================================================================\n",
      "Dep. Variable:                      y   R-squared:                       0.242\n",
      "Model:                            OLS   Adj. R-squared:                  0.218\n",
      "Method:                 Least Squares   F-statistic:                     10.13\n",
      "Date:                Tue, 31 Jan 2023   Prob (F-statistic):           2.07e-37\n",
      "Time:                        10:09:24   Log-Likelihood:                -1172.7\n",
      "No. Observations:                 916   AIC:                             2403.\n",
      "Df Residuals:                     887   BIC:                             2543.\n",
      "Df Model:                          28                                         \n",
      "Covariance Type:            nonrobust                                         \n",
      "========================================================================================\n",
      "                           coef    std err          t      P>|t|      [0.025      0.975]\n",
      "----------------------------------------------------------------------------------------\n",
      "const                    0.1193      2.311      0.052      0.959      -4.417       4.655\n",
      "n                        0.0164      0.015      1.102      0.271      -0.013       0.046\n",
      "m                       -0.0043      0.006     -0.705      0.481      -0.016       0.008\n",
      "k_avg                   -0.0723      0.102     -0.706      0.480      -0.273       0.129\n",
      "edge_length_total      2.08e-05   6.25e-05      0.333      0.739      -0.000       0.000\n",
      "edge_length_avg          0.0012      0.004      0.330      0.741      -0.006       0.008\n",
      "streets_per_node_avg    -0.0930      0.139     -0.668      0.504      -0.366       0.180\n",
      "intersection_count       0.1675      0.031      5.381      0.000       0.106       0.229\n",
      "street_length_total  -5.697e-05   8.34e-05     -0.683      0.495      -0.000       0.000\n",
      "street_segment_count    -0.0315      0.016     -1.930      0.054      -0.064       0.001\n",
      "street_length_avg       -0.0015      0.003     -0.441      0.659      -0.008       0.005\n",
      "circuity_avg             0.5200      0.411      1.264      0.206      -0.287       1.327\n",
      "3_way_int_count         -0.1290      0.027     -4.716      0.000      -0.183      -0.075\n",
      "4_way_int_count         -0.1086      0.028     -3.860      0.000      -0.164      -0.053\n",
      "dist_to_greenspace      -0.0010      0.000     -2.313      0.021      -0.002      -0.000\n",
      "dist_to_bikePOI         -0.0006      0.000     -1.206      0.228      -0.001       0.000\n",
      "bike_points             -0.0126      0.004     -3.169      0.002      -0.020      -0.005\n",
      "bus_stops               -0.0290      0.010     -2.953      0.003      -0.048      -0.010\n",
      "restaurants              0.0237      0.004      5.703      0.000       0.016       0.032\n",
      "shop_list               -0.0162      0.022     -0.725      0.469      -0.060       0.028\n",
      "cycle_length             0.0003   4.98e-05      5.644      0.000       0.000       0.000\n",
      "ndvi_mean                0.2828      0.278      1.018      0.309      -0.262       0.828\n",
      "ndvi_std                 1.0353      0.713      1.451      0.147      -0.365       2.435\n",
      "dem_mean                -0.0001      0.000     -1.236      0.217      -0.000    8.46e-05\n",
      "dem_std                 -0.0401      0.011     -3.601      0.000      -0.062      -0.018\n",
      "lst_mean                -0.0031      0.008     -0.393      0.694      -0.019       0.012\n",
      "lst_std                  0.3347      0.074      4.496      0.000       0.189       0.481\n",
      "lc_entropy               0.0230      0.311      0.074      0.941      -0.588       0.634\n",
      "pop_sum                  0.0001   6.05e-05      1.776      0.076   -1.13e-05       0.000\n",
      "==============================================================================\n",
      "Omnibus:                      880.214   Durbin-Watson:                   1.019\n",
      "Prob(Omnibus):                  0.000   Jarque-Bera (JB):            40094.157\n",
      "Skew:                           4.391   Prob(JB):                         0.00\n",
      "Kurtosis:                      34.199   Cond. No.                     7.91e+05\n",
      "==============================================================================\n",
      "\n",
      "Notes:\n",
      "[1] Standard Errors assume that the covariance matrix of the errors is correctly specified.\n",
      "[2] The condition number is large, 7.91e+05. This might indicate that there are\n",
      "strong multicollinearity or other numerical problems.\n"
     ]
    }
   ],
   "source": [
    "X = sm.add_constant(data)\n",
    "model = sm.OLS(y, X).fit()\n",
    "print(model.summary())"
   ]
  },
  {
   "cell_type": "code",
   "execution_count": 38,
   "metadata": {},
   "outputs": [],
   "source": [
    "#Remove insignificant variables\n",
    "X_new = X.copy()\n",
    "p_values = model.pvalues\n",
    "p_values.drop('const')\n",
    "X = X_new.drop(X_new.columns[p_values > 0.05], axis=1)\n",
    "X = X.drop('intersection_count', axis=1)"
   ]
  },
  {
   "cell_type": "code",
   "execution_count": 39,
   "metadata": {},
   "outputs": [
    {
     "name": "stdout",
     "output_type": "stream",
     "text": [
      "                            OLS Regression Results                            \n",
      "==============================================================================\n",
      "Dep. Variable:                      y   R-squared:                       0.198\n",
      "Model:                            OLS   Adj. R-squared:                  0.190\n",
      "Method:                 Least Squares   F-statistic:                     24.85\n",
      "Date:                Tue, 31 Jan 2023   Prob (F-statistic):           2.40e-38\n",
      "Time:                        10:09:25   Log-Likelihood:                -1198.7\n",
      "No. Observations:                 916   AIC:                             2417.\n",
      "Df Residuals:                     906   BIC:                             2466.\n",
      "Df Model:                           9                                         \n",
      "Covariance Type:            nonrobust                                         \n",
      "======================================================================================\n",
      "                         coef    std err          t      P>|t|      [0.025      0.975]\n",
      "--------------------------------------------------------------------------------------\n",
      "const                 -0.5498      0.106     -5.184      0.000      -0.758      -0.342\n",
      "3_way_int_count        0.0047      0.002      2.060      0.040       0.000       0.009\n",
      "4_way_int_count        0.0057      0.004      1.615      0.107      -0.001       0.013\n",
      "dist_to_greenspace    -0.0012      0.000     -2.866      0.004      -0.002      -0.000\n",
      "bike_points           -0.0123      0.004     -3.117      0.002      -0.020      -0.005\n",
      "bus_stops             -0.0296      0.009     -3.179      0.002      -0.048      -0.011\n",
      "restaurants            0.0271      0.004      7.259      0.000       0.020       0.034\n",
      "cycle_length           0.0004   4.74e-05      7.722      0.000       0.000       0.000\n",
      "dem_std               -0.0382      0.011     -3.537      0.000      -0.059      -0.017\n",
      "lst_std                0.3409      0.063      5.369      0.000       0.216       0.466\n",
      "==============================================================================\n",
      "Omnibus:                      899.228   Durbin-Watson:                   0.966\n",
      "Prob(Omnibus):                  0.000   Jarque-Bera (JB):            40643.233\n",
      "Skew:                           4.558   Prob(JB):                         0.00\n",
      "Kurtosis:                      34.333   Cond. No.                     4.35e+03\n",
      "==============================================================================\n",
      "\n",
      "Notes:\n",
      "[1] Standard Errors assume that the covariance matrix of the errors is correctly specified.\n",
      "[2] The condition number is large, 4.35e+03. This might indicate that there are\n",
      "strong multicollinearity or other numerical problems.\n"
     ]
    }
   ],
   "source": [
    "X = sm.add_constant(X)\n",
    "model = sm.OLS(y, X).fit()\n",
    "print(model.summary())"
   ]
  },
  {
   "cell_type": "code",
   "execution_count": 40,
   "metadata": {},
   "outputs": [
    {
     "name": "stdout",
     "output_type": "stream",
     "text": [
      "         VIF            features\n",
      "0  12.703010               const\n",
      "1   1.259967     3_way_int_count\n",
      "2   1.205738     4_way_int_count\n",
      "3   1.066956  dist_to_greenspace\n",
      "4   1.506665         bike_points\n",
      "5   1.450182           bus_stops\n",
      "6   1.732319         restaurants\n",
      "7   1.101380        cycle_length\n",
      "8   1.134400             dem_std\n",
      "9   1.113424             lst_std\n"
     ]
    }
   ],
   "source": [
    "#Check multicolinearity with VIF\n",
    "vif = pd.DataFrame()\n",
    "vif[\"VIF\"] = [variance_inflation_factor(X.values, i) for i in range(X.shape[1])]\n",
    "vif[\"features\"] = X.columns\n",
    "\n",
    "print(vif)"
   ]
  },
  {
   "cell_type": "code",
   "execution_count": null,
   "metadata": {},
   "outputs": [],
   "source": []
  }
 ],
 "metadata": {
  "kernelspec": {
   "display_name": "ox",
   "language": "python",
   "name": "python3"
  },
  "language_info": {
   "codemirror_mode": {
    "name": "ipython",
    "version": 3
   },
   "file_extension": ".py",
   "mimetype": "text/x-python",
   "name": "python",
   "nbconvert_exporter": "python",
   "pygments_lexer": "ipython3",
   "version": "3.11.0 | packaged by conda-forge | (main, Jan 14 2023, 12:26:40) [Clang 14.0.6 ]"
  },
  "orig_nbformat": 4,
  "vscode": {
   "interpreter": {
    "hash": "e04e9d70aa0476d320a89e4247bc687a844ab51af6dd849df37511de572e0dcf"
   }
  }
 },
 "nbformat": 4,
 "nbformat_minor": 2
}
